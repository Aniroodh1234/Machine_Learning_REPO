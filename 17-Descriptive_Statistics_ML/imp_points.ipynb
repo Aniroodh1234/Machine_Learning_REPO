{
 "cells": [
  {
   "cell_type": "code",
   "execution_count": null,
   "id": "1cc7980f",
   "metadata": {},
   "outputs": [],
   "source": [
    "1) 5_number summary is used to remove ouliers from a dataset.\n",
    "2) the box plot is used to visualize the 5-number summary. And can be created using this 5 numbers only\n",
    "\n",
    "3) covariance is used  to measure and quantify the relationship between two variables.\n",
    "4) if covariance is positive, it means that the two variables are positively correlated, meaning that as one variable increases, the other variable also tends to increase.\n",
    "5) if covariance is negative, it means that the two variables are negatively correlated, meaning that as one variable increases, the other variable tends to decrease.\n",
    "\n",
    "\n",
    "6) corelation is a statistical measure that describes the strength and direction of a relationship between two variables.\n",
    "\n",
    "7) in covariance there is no limiting value so we are not able to determine the strength of the relationship between two variables.\n",
    "8) pearson corelation---->in correlation, the value is limited between -1 and 1, which allows us to determine the strength of the relationship between two variables.\n",
    "9) it is more suitable for linear relationshiip, for no linear relationship we use spearman corelation.\n",
    "\n",
    "10) in spearman rank correlation we first rank the data and then calculate the correlation coefficient based on the ranks.\n",
    "11) spearman rank correlation is used to measure the strength and direction of the monotonic relationship between two variables.\n",
    "12) "
   ]
  }
 ],
 "metadata": {
  "language_info": {
   "name": "python"
  }
 },
 "nbformat": 4,
 "nbformat_minor": 5
}

{
 "cells": [
  {
   "cell_type": "code",
   "execution_count": null,
   "id": "b3493ab2",
   "metadata": {},
   "outputs": [],
   "source": [
    "functions used in threading\n",
    "\n",
    "1) creating a thread --> threading.Thread(target = target_function_name)\n",
    "2) staring a thread --> thread_name_start()\n",
    "3) joining a tghread --> thread_name.join()\n",
    "4) sleep --> time.sleep(seconds)\n",
    "\n",
    "5) thread_pool_executor -->\n",
    "    firat import from concurrent.futures then,\n",
    "    with ThreadPoolExecutor(max_workers = 5) as exector:\n",
    "        result = executor.map(function_name, itterable)\n",
    "    then use for loop to itterate the results\n",
    "\n",
    "\n",
    "\n",
    "\n",
    "\n",
    "functions used in multiprocessing\n",
    "1) creating a process --> multiprocess.Process(tagert = target_function_name)\n",
    "2) starting function --> process.start()\n",
    "3) joining a process --> process.join()\n",
    "4) sleep --> time.sleep(seconds)\n",
    "5) process pool executor -->\n",
    "    from concurrent.futures import ProcessPoolExecutor\n",
    "    with ProcessPoolExecutor(max_worker=3) as executor:\n",
    "        result = executor.map(finction_name, itterable)\n",
    "    then use for loop to itterate the results\n"
   ]
  }
 ],
 "metadata": {
  "language_info": {
   "name": "python"
  }
 },
 "nbformat": 4,
 "nbformat_minor": 5
}

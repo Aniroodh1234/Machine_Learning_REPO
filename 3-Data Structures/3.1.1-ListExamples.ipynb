{
 "cells": [
  {
   "cell_type": "markdown",
   "metadata": {},
   "source": [
    "#### Real-World Examples Using Lists in Python\n",
    "Lists are one of the most commonly used data structures in Python, thanks to their versatility and ease of use. Here are several practical examples that illustrate their use in real-world scenarios"
   ]
  },
  {
   "cell_type": "markdown",
   "metadata": {},
   "source": [
    "##### Example 1. Manage A To Do List\n",
    "- Create a To Do List To Keep Track OF Tasks"
   ]
  },
  {
   "cell_type": "code",
   "execution_count": 13,
   "metadata": {},
   "outputs": [
    {
     "name": "stdout",
     "output_type": "stream",
     "text": [
      "Don't forgrt to pay the utility bills\n",
      "To Do List remaining\n",
      "-Buy Groceries\n",
      "-Pay bills\n",
      "-Schedule meeting\n",
      "-Go For a Run\n"
     ]
    }
   ],
   "source": [
    "to_do_list = [\"Buy Groceries\",\"Clean the house\",\"Pay bills\"]\n",
    "\n",
    "## Adding to task\n",
    "to_do_list.append(\"Schedule meeting\")\n",
    "to_do_list.append(\"Go For a Run\")\n",
    "\n",
    "## Removing a completed task\n",
    "to_do_list.remove(\"Clean the house\")\n",
    "\n",
    "## checking if a task is in the list\n",
    "if \"Pay bills\" in to_do_list:\n",
    "    print(\"Don't forgrt to pay the utility bills\")\n",
    "\n",
    "print(\"To Do List remaining\")\n",
    "for task in to_do_list:\n",
    "    print(f\"-{task}\")"
   ]
  },
  {
   "cell_type": "markdown",
   "metadata": {},
   "source": [
    "##### Example 2: Organizing Student Grades\n",
    "- Create a list to store and calculate average grades for students"
   ]
  },
  {
   "cell_type": "code",
   "execution_count": 12,
   "metadata": {},
   "outputs": [
    {
     "name": "stdout",
     "output_type": "stream",
     "text": [
      "Average_grades:88.00\n",
      "Highest Grade: 95\n",
      "Lowest Grade: 78\n"
     ]
    }
   ],
   "source": [
    "# Organizing student grades\n",
    "grades = [85, 92, 78, 90, 88]\n",
    "\n",
    "# Adding a new grade\n",
    "grades.append(95)\n",
    "\n",
    "# Calculating the average grade\n",
    "average_grades=sum(grades)/len(grades)\n",
    "print(f\"Average_grades:{average_grades:.2f}\")\n",
    "\n",
    "# Finding the highest and lowest grades\n",
    "highest_grade = max(grades)\n",
    "lowest_grade = min(grades)\n",
    "print(f\"Highest Grade: {highest_grade}\")\n",
    "print(f\"Lowest Grade: {lowest_grade}\")\n"
   ]
  },
  {
   "cell_type": "markdown",
   "metadata": {},
   "source": [
    "##### Example 3: Managing An Inventory\n",
    "- Use a list to manage inventory items in a store"
   ]
  },
  {
   "cell_type": "code",
   "execution_count": 3,
   "metadata": {},
   "outputs": [
    {
     "name": "stdout",
     "output_type": "stream",
     "text": [
      "oranges are in stock.\n",
      "Inventory List:\n",
      "- apples\n",
      "- oranges\n",
      "- grapes\n",
      "- strawberries\n"
     ]
    }
   ],
   "source": [
    "# Managing an inventory\n",
    "inventory = [\"apples\", \"bananas\", \"oranges\", \"grapes\"]\n",
    "\n",
    "# Adding a new item\n",
    "inventory.append(\"strawberries\")\n",
    "\n",
    "# Removing an item that is out of stock\n",
    "inventory.remove(\"bananas\")\n",
    "\n",
    "# Checking if an item is in stock\n",
    "item = \"oranges\"\n",
    "if item in inventory:\n",
    "    print(f\"{item} are in stock.\")\n",
    "else:\n",
    "    print(f\"{item} are out of stock.\")\n",
    "\n",
    "# Printing the inventory\n",
    "print(\"Inventory List:\")\n",
    "for item in inventory:\n",
    "    print(f\"- {item}\")\n"
   ]
  },
  {
   "cell_type": "markdown",
   "metadata": {},
   "source": [
    "##### Example 4:Collecting User Feedback\n",
    "- Use a list to collect and analyze user feedback."
   ]
  },
  {
   "cell_type": "code",
   "execution_count": null,
   "metadata": {},
   "outputs": [
    {
     "name": "stdout",
     "output_type": "stream",
     "text": [
      "Positive Feedback Count: 2\n",
      "positive feedback count = 0\n",
      "User Feedback:\n",
      "- Great service!\n",
      "- Very satisfied\n",
      "- Could be better\n",
      "- Excellent experience\n",
      "- Not happy with the service\n"
     ]
    }
   ],
   "source": [
    "# Collecting user feedback\n",
    "feedback = [\"Great service!\", \"Very satisfied\", \"Could be better\", \"Excellent experience\"]\n",
    "\n",
    "# Adding new feedback\n",
    "feedback.append(\"Not happy with the service\")\n",
    "\n",
    "# Counting specific feedback\n",
    "positive_feedback_count = [1 for comment in feedback if \"great\" in comment or \"excellent\" in comment]\n",
    "print(f\"positive feedback count = {len(positive_feedback_count)}\")\n",
    "\n",
    "# Printing all feedback\n",
    "print(\"User Feedback:\")\n",
    "for comment in feedback:\n",
    "    print(f\"- {comment}\")\n"
   ]
  },
  {
   "cell_type": "code",
   "execution_count": null,
   "metadata": {},
   "outputs": [],
   "source": [
    "#LIST, SET AND DICTIONARY COMPREHENSION ONLY EXIST \n",
    "#NO STRINGS AND TUPLE COMPRHENSION DOES NOT EXIST\n",
    "\n",
    "#IMMUTABLE--> STRING, TUPLE\n",
    "#MUTTABLE--> LIST, DICTIONARY, SET\n",
    "\n",
    "#in dictionary keys are immutble but values are muttable"
   ]
  },
  {
   "cell_type": "code",
   "execution_count": null,
   "metadata": {},
   "outputs": [],
   "source": [
    "# There are four opeartios in list\n",
    "# 1) concatination\n",
    "\n",
    "list1 = [1, 2, 3]\n",
    "list2 = [4, 5, 6]\n",
    "list3 = list1 + list2\n",
    "print(list3)  \n",
    "\n",
    "# 2) repetition\n",
    "list1 = [1, 2, 3]\n",
    "list2 = list1 * 3\n",
    "print(list2) \n",
    "\n",
    "# 3) membership\n",
    "list1 = [1, 2, 3]\n",
    "2 in list1\n",
    "\n",
    "# 4) slicing\n",
    "list1 = [1, 2, 3, 4, 5]\n",
    "list2 = list1[1:4]\n",
    "print(list2)"
   ]
  },
  {
   "cell_type": "code",
   "execution_count": null,
   "metadata": {},
   "outputs": [
    {
     "name": "stdout",
     "output_type": "stream",
     "text": [
      "[1, 2, 3, 4]\n"
     ]
    }
   ],
   "source": [
    "# # list functions\n",
    "\n",
    "# 1) append\n",
    "# list1 = [1, 2, 3]\n",
    "# list1.append(4)\n",
    "# print(list1)  \n",
    "\n",
    "\n",
    "# 2) extend\n",
    "# list1 = [1, 2, 3]\n",
    "# list2 = [4, 5]\n",
    "# list1.extend(list2)\n",
    "# print(list1)\n",
    "\n",
    "\n",
    "# 3) insert\n",
    "# list1 = [1, 2, 3]\n",
    "# list1.insert(1, 4)  \n",
    "# print(list1)  \n",
    "\n",
    "\n",
    "# 4) remove\n",
    "# list1 = [1, 2, 3]\n",
    "# list1.remove(2)\n",
    "# print(list1)\n",
    "\n",
    "\n",
    "# 5) pop\n",
    "# list1 = [1, 2, 3]\n",
    "# popped_element = list1.pop(1)  \n",
    "# print(popped_element)  \n",
    "# print(list1)  \n",
    "\n",
    "\n",
    "# 6) index\n",
    "# list1 = [1, 2, 3]\n",
    "# list1.index(2)\n",
    "\n",
    "\n",
    "# 7) count\n",
    "# list1 = [1, 2, 3,2,2,2,4,4]\n",
    "# list1.count(2)  \n",
    "\n",
    "\n",
    "# 8) sort\n",
    "# list1 = [3, 1, 4, 2]\n",
    "# list1.sort()\n",
    "\n",
    "\n",
    "# 9) sorted\n",
    "# list1 = [3, 1, 4, 2]\n",
    "# list2 = sorted(list1)\n",
    "# print(list2)\n",
    "# print(list1)\n",
    "\n",
    "\n",
    "# 10) reverse\n",
    "# list1 = [1, 2, 3]\n",
    "# list1.reverse()\n",
    "# print(list1)\n",
    "\n",
    "\n",
    "# 11) copy\n",
    "# list1 = [1, 2, 3]\n",
    "# list2 = list1.copy()\n",
    "# print(list2)\n",
    "# print(list1)\n",
    "\n",
    "\n",
    "# 12) clear\n",
    "# list1 = [1, 2, 3]\n",
    "# list1.clear()\n",
    "# print(list1)\n",
    "\n",
    "\n",
    "# 13) join\n",
    "# list1 = [\"Hello\", \"World\"]\n",
    "# list2 = \" \".join(list1)\n",
    "# print(list2)\n",
    "\n",
    "\n",
    "# 14) split\n",
    "# list1 = \"Hello World\"\n",
    "# list2 = list1.split(\" \")\n",
    "# print(list2)\n",
    "\n",
    "\n",
    "# 15) len\n",
    "# list1 = [1, 2, 3]\n",
    "# length = len(list1)\n",
    "# print(length)\n",
    "\n",
    "\n",
    "# 16) min\n",
    "# list1 = [1, 2, 3]\n",
    "# min_value = min(list1)\n",
    "# print(min_value)\n",
    "\n",
    "\n",
    "# 17) max\n",
    "# list1 = [1, 2, 3]\n",
    "# max_value = max(list1)\n",
    "# print(max_value)\n",
    "\n",
    "\n",
    "# 18) sum\n",
    "# list1 = [1, 2, 3]\n",
    "# sum_value = sum(list1)\n",
    "# print(sum_value)\n",
    "\n",
    "\n",
    "# 19) all\n",
    "# list1 = [1, 2, 3]\n",
    "# all_true = all(x > 0 for x in list1)\n",
    "# print(all_true)\n",
    "\n",
    "\n",
    "# 20) any\n",
    "# list1 = [1, 2, 3]\n",
    "# any_true = any(x > 2 for x in list1)\n",
    "# print(any_true)\n",
    "\n",
    "\n",
    "# 21) zip\n",
    "# list1 = [1, 2, 3]\n",
    "# list2 = [4, 5, 6]\n",
    "# zipped = list(zip(list1, list2))\n",
    "# print(zipped)\n",
    "\n",
    "\n",
    "# 22) map\n",
    "# list1 = [1, 2, 3]\n",
    "# list2 = list(map(lambda x: x * 2, list1))\n",
    "# print(list2)\n",
    "\n",
    "\n",
    "# 23) filter\n",
    "# list1 = [1, 2, 3]\n",
    "# list2 = list(filter(lambda x: x > 1, list1))\n",
    "# print(list2)\n",
    "\n",
    "\n",
    "\n",
    "\n",
    "\n"
   ]
  },
  {
   "cell_type": "code",
   "execution_count": 6,
   "metadata": {},
   "outputs": [
    {
     "name": "stdout",
     "output_type": "stream",
     "text": [
      "[1, 2, 3]\n",
      "[1, 2, 3]\n"
     ]
    }
   ],
   "source": [
    "list1 = [1, 2, 3]\n",
    "list2 = list1.copy()\n",
    "print(list2)\n",
    "print(list1)\n"
   ]
  }
 ],
 "metadata": {
  "kernelspec": {
   "display_name": "Python 3",
   "language": "python",
   "name": "python3"
  },
  "language_info": {
   "codemirror_mode": {
    "name": "ipython",
    "version": 3
   },
   "file_extension": ".py",
   "mimetype": "text/x-python",
   "name": "python",
   "nbconvert_exporter": "python",
   "pygments_lexer": "ipython3",
   "version": "3.12.9"
  }
 },
 "nbformat": 4,
 "nbformat_minor": 2
}

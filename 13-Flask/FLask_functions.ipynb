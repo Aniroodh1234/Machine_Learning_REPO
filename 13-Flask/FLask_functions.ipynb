{
 "cells": [
  {
   "cell_type": "code",
   "execution_count": null,
   "id": "be7916b6",
   "metadata": {},
   "outputs": [],
   "source": [
    "# functions related to flask\n",
    "\n",
    "1) from flask import Flask, redirect,url_for,request,render_template\n",
    "\n",
    "redirect and url_for used for creating dynamic web mages... dynamic web pages are those pages where we link web page with backend dataset or database\n",
    "render_template is used to render html pages with web pages\n",
    "\n",
    "2) app = Flask(__name__)  --> # creating an instance of Flask class\n",
    "3) @app.route('/')  --> # decorator to tell Flask what URL should call the associated function\n",
    "\n",
    "4) @app.route('/hello/<name>')  --> # dynamic URL routing, where <name> is a parameter part of the URL\n",
    "\n",
    "\n",
    "\n",
    "5) get and post ---> small example\n",
    "@app.route('/form', methods=['GET', 'POST'])  --> # handling both GET and POST requests\n",
    "if request.method == 'POST':\n",
    "    name = request.form['name']  # accessing form data\n",
    "    return redirect(url_for('hello', name=name))  # redirecting to the hello route with the name parameter\n",
    "else:\n",
    "    return render_template('form.html')  # rendering a form template for GET requests"
   ]
  },
  {
   "cell_type": "markdown",
   "id": "8135b2c0",
   "metadata": {},
   "source": [
    "#### flask is a framework which is used to create websites using python\n",
    "#### first we import flask and create app object which will initiate the process of website creation\n",
    "#### app.routes --> this is a decorator which will connect the function inside decorator and web page. This will actually print different message when we move to different web pages\n",
    "#### inside app.routes we create functions that need to be showed to user. The function mandatoryly return simething and the app.route name must be unique so that flask app should not crash\n",
    "#### now we have request.methods-- there are two types of request method i.e GET & POST.\n",
    "#### GET - get is used when user wantsn some information from server\n",
    "#### POST --it is used when user give some information to server\n",
    "#### next we have request,redirect,url_for,session,response\n",
    "#### request -- the source will send data to flask app throug request\n",
    "#### redirect -- this will redirect us to differernt web page in our website. Always redirect and url_for are used together:-redirect(url_for())\n",
    "#### url_for -- just like anchor tag in html, it will return url for a function\n",
    "#### session-- stores data of user throughout the website. For session a secret key is created which will protect the users data from any cyber attack\n",
    "#### response -- the flask (server) will send a response to the user in html file\n",
    "\n",
    "#### for building dynamic pages using flask we will create a html page and using flask (render_template) we will render that html page and we will run it. Now to create a html page we have learnerd all stuffs .In form element of html we specify action attribute, the url which we give in action attribute must be same with @app.route name so that the data can be send from html file to the flask engine ---> for this we specificly use jinja 2 template engine\n",
    "\n"
   ]
  },
  {
   "cell_type": "markdown",
   "id": "410464df",
   "metadata": {},
   "source": [
    "#### jinja 2 template engine\n",
    "#### Jinja2 is the template engine used by Flask. It lets you write HTML with Python sprinkled inside — so your web pages aren't just static, they're alive with logic. jinja2 uses render template to render the html files. jinja2 runs html files on server.\n",
    "#### there are various syntax of jinja 2 which is used to build a web app such as:-\n",
    "#### Variables (output something) -- {{ name }}\n",
    "#### Control Structures (logic in HTML) -- {% if  %} {% else %} {% endif %} -- {% endif %} is used to terminate the if-else block\n",
    "#### loop structures -- {% for %} {% endfor %}  -- {% endfor %} is used to terminate for loop \n",
    "#### Comments (invisible in HTML) -- {# This is a comment #}\n",
    "#### template inheritence -- in every website the header and footer of webpage is same and not changed. It is been done using template inheritance. Basically we create base.html file where we defiine the title and style of header, footer. Then in the body part we define webpage header and footer, for content we leave it because it will be diufferent for different webpages who will inherit the base.html file for template inheritance\n",
    "\n",
    "#### in child file we inherit base.html file using extend then we write the title and write the block content. every thing is done using jinja 2 templating\n",
    "\n",
    "#### {%block title%}__{%endblock%} --> this is for creating the title page in base.html file and during inheritance we we write this title on child file also.\n",
    "#### {%block content %}__{%endblock%} --> this is used to create the main block contebnt of html file. Generally done for child files\n",
    "#### {% extends base.html %} --- this i used to inherit the base.html file to current child file\n"
   ]
  },
  {
   "cell_type": "markdown",
   "id": "c05f0142",
   "metadata": {},
   "source": [
    "#### flash message --> flash message is a one time message which is shown to user after completion of a task. To execute this we use two main functions i.e flash and get_flash_message. The flash will be written in the .py file where all flash messages will be stored in flask memory \n",
    "\n",
    "#### And to retrieve it from html page and show it to user we use get_flash_message but it is wrapped with {% with get_flash_message %} {%endwith%} remaining all things are same, we will use template inheritance and jinja2 template engine to execute this.\n",
    "\n",
    "#### always use flash and redirect(url_for()) together.\n",
    "#### always define a session secrect key to execute message with saftey"
   ]
  },
  {
   "cell_type": "markdown",
   "id": "fc821c95",
   "metadata": {},
   "source": [
    "#### CREATING APIS USING FLASK\n",
    "\n",
    "#### concept of api creation -- we will sent some data/request in form of json file to the postman and we will directly get the value, hence postman used for testing, building, and documenting APIs\n",
    "\n",
    "#### so first of all we will create json file, then in flask we will use one extension called jsonify\n",
    "#### first in flask extract the json file using request.get_json, then convert it to dictionary. If you are playing with some numerical value then typecast it as by default we get string values\n",
    "\n",
    "#### then return the value using jsonify(). At last use postman to check results"
   ]
  }
 ],
 "metadata": {
  "kernelspec": {
   "display_name": "Python 3",
   "language": "python",
   "name": "python3"
  },
  "language_info": {
   "name": "python",
   "version": "3.12.9"
  }
 },
 "nbformat": 4,
 "nbformat_minor": 5
}

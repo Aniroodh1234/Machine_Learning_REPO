{
 "cells": [
  {
   "cell_type": "markdown",
   "metadata": {},
   "source": [
    "#### SQL And SQLite\n",
    "SQL (Structured Query Language) is a standard language for managing and manipulating relational databases. SQLite is a self-contained, serverless, and zero-configuration database engine that is widely used for embedded database systems. In this lesson, we will cover the basics of SQL and SQLite, including creating databases, tables, and performing various SQL operations."
   ]
  },
  {
   "cell_type": "code",
   "execution_count": 1,
   "metadata": {},
   "outputs": [],
   "source": [
    "import sqlite3"
   ]
  },
  {
   "cell_type": "code",
   "execution_count": 2,
   "metadata": {},
   "outputs": [
    {
     "data": {
      "text/plain": [
       "<sqlite3.Connection at 0x2040afcf5b0>"
      ]
     },
     "execution_count": 2,
     "metadata": {},
     "output_type": "execute_result"
    }
   ],
   "source": [
    "## Connect to an SQLite database\n",
    "connection = sqlite3.connect('example.db')\n",
    "connection"
   ]
  },
  {
   "cell_type": "code",
   "execution_count": 3,
   "metadata": {},
   "outputs": [],
   "source": [
    "cursor = connection.cursor()"
   ]
  },
  {
   "cell_type": "code",
   "execution_count": 9,
   "metadata": {},
   "outputs": [],
   "source": [
    "## Create a Table\n",
    "cursor.execute('''\n",
    "create table if not exists Employee(\n",
    "    name text not null,\n",
    "    age integer,\n",
    "    department text\n",
    "    )\n",
    "''')\n",
    "connection.commit()"
   ]
  },
  {
   "cell_type": "code",
   "execution_count": 8,
   "metadata": {},
   "outputs": [
    {
     "data": {
      "text/plain": [
       "<sqlite3.Cursor at 0x2040af9ae40>"
      ]
     },
     "execution_count": 8,
     "metadata": {},
     "output_type": "execute_result"
    }
   ],
   "source": [
    "cursor.execute('''\n",
    "Select * from employees\n",
    "    \n",
    "''')"
   ]
  },
  {
   "cell_type": "code",
   "execution_count": 16,
   "metadata": {},
   "outputs": [],
   "source": [
    "## Insert the data in sqlite table\n",
    "cursor.execute('''\n",
    "Insert into employees(name,age,department)\n",
    "values('Aniroodh',21,'Ml')\n",
    "''')\n",
    "\n",
    "cursor.execute('''\n",
    "Insert into employees(name,age,department)\n",
    "values('Abhighyan',19,'c++')\n",
    "''')\n",
    "\n",
    "cursor.execute('''\n",
    "INSERT INTO employees (name, age, department)\n",
    "VALUES ('Charlie', 35, 'Finance')\n",
    "''')\n",
    "\n",
    "connection.commit()"
   ]
  },
  {
   "cell_type": "code",
   "execution_count": 17,
   "metadata": {},
   "outputs": [
    {
     "name": "stdout",
     "output_type": "stream",
     "text": [
      "(1, 'Krish', 34, 'Data Scientist')\n",
      "(3, 'Charlie', 35, 'Finance')\n",
      "(4, 'Krish', 32, 'Data Scientist')\n",
      "(5, 'Bob', 25, 'Engineering')\n",
      "(6, 'Charlie', 35, 'Finance')\n",
      "(7, 'Aniroodh', 21, 'Ml')\n",
      "(8, 'Aniroodh', 21, 'Ml')\n",
      "(9, 'Abhighyan', 19, 'c++')\n",
      "(10, 'Charlie', 35, 'Finance')\n",
      "(11, 'Aniroodh', 21, 'Ml')\n",
      "(12, 'Abhighyan', 19, 'c++')\n",
      "(13, 'Charlie', 35, 'Finance')\n"
     ]
    }
   ],
   "source": [
    "## Query the data from the table\n",
    "cursor.execute('select* from employees')\n",
    "rows = cursor.fetchall()\n",
    "\n",
    "for row in rows:\n",
    "    print(row)"
   ]
  },
  {
   "cell_type": "code",
   "execution_count": 18,
   "metadata": {},
   "outputs": [],
   "source": [
    "## Update the data in the table\n",
    "\n",
    "\n",
    "cursor.execute('''\n",
    "update employee \n",
    "set age = 22\n",
    "where name='Aniroodh'\n",
    "''')\n",
    "connection.commit()"
   ]
  },
  {
   "cell_type": "code",
   "execution_count": null,
   "metadata": {},
   "outputs": [
    {
     "name": "stdout",
     "output_type": "stream",
     "text": [
      "(1, 'Krish', 34, 'Data Scientist')\n",
      "(3, 'Charlie', 35, 'Finance')\n",
      "(4, 'Krish', 32, 'Data Scientist')\n",
      "(5, 'Bob', 25, 'Engineering')\n",
      "(6, 'Charlie', 35, 'Finance')\n",
      "(7, 'Aniroodh', 21, 'Ml')\n",
      "(8, 'Aniroodh', 21, 'Ml')\n",
      "(9, 'Abhighyan', 19, 'c++')\n",
      "(10, 'Charlie', 35, 'Finance')\n",
      "(11, 'Aniroodh', 21, 'Ml')\n",
      "(12, 'Abhighyan', 19, 'c++')\n",
      "(13, 'Charlie', 35, 'Finance')\n"
     ]
    }
   ],
   "source": [
    "## Query the data from the table\n",
    "\n",
    "cursor.execute('select* from employees')\n",
    "rows = cursor.fetchall()\n",
    "\n",
    "for row in rows:\n",
    "    print(row)"
   ]
  },
  {
   "cell_type": "code",
   "execution_count": 21,
   "metadata": {},
   "outputs": [],
   "source": [
    "## Delete the data from the table\n",
    "\n",
    "cursor.execute('''\n",
    "delete from employees \n",
    "where name = 'Aniroodh'\n",
    "''')\n",
    "connection.commit()"
   ]
  },
  {
   "cell_type": "code",
   "execution_count": 22,
   "metadata": {},
   "outputs": [
    {
     "name": "stdout",
     "output_type": "stream",
     "text": [
      "(1, 'Krish', 34, 'Data Scientist')\n",
      "(3, 'Charlie', 35, 'Finance')\n",
      "(4, 'Krish', 32, 'Data Scientist')\n",
      "(5, 'Bob', 25, 'Engineering')\n",
      "(6, 'Charlie', 35, 'Finance')\n",
      "(9, 'Abhighyan', 19, 'c++')\n",
      "(10, 'Charlie', 35, 'Finance')\n",
      "(12, 'Abhighyan', 19, 'c++')\n",
      "(13, 'Charlie', 35, 'Finance')\n"
     ]
    }
   ],
   "source": [
    "## Query the data from the table\n",
    "\n",
    "\n",
    "cursor.execute('select* from employees')\n",
    "rows = cursor.fetchall()\n",
    "\n",
    "for row in rows:\n",
    "    print(row)\n"
   ]
  },
  {
   "cell_type": "code",
   "execution_count": 25,
   "metadata": {},
   "outputs": [],
   "source": [
    "## Working Wwith Sales Data\n",
    "# Connect to an SQLite database\n",
    "connection = sqlite3.connect('sales_data.db')\n",
    "connection\n",
    "cursor = connection.cursor()\n",
    "\n",
    "cursor.execute('''\n",
    "create table if not exists sales(\n",
    "    id INTEGER PRIMARY KEY,\n",
    "    date TEXT NOT NULL,\n",
    "    product TEXT NOT NULL,\n",
    "    sales INTEGER,\n",
    "    region TEXT)\n",
    "''')\n",
    "sales_data = [\n",
    "    ('2023-01-01', 'Product1', 100, 'North'),\n",
    "    ('2023-01-02', 'Product2', 200, 'South'),\n",
    "    ('2023-01-03', 'Product1', 150, 'East'),\n",
    "    ('2023-01-04', 'Product3', 250, 'West'),\n",
    "    ('2023-01-05', 'Product2', 300, 'North')\n",
    "]\n",
    "\n",
    "cursor.executemany('''\n",
    "insert into sales(date,product,sales,region)\n",
    "values(?,?,?,?)\n",
    "''',sales_data)\n",
    "\n",
    "connection.commit()"
   ]
  },
  {
   "cell_type": "code",
   "execution_count": 27,
   "metadata": {},
   "outputs": [
    {
     "name": "stdout",
     "output_type": "stream",
     "text": [
      "[(1, '2023-01-01', 'Product1', 100, 'North'), (2, '2023-01-02', 'Product2', 200, 'South'), (3, '2023-01-03', 'Product1', 150, 'East'), (4, '2023-01-04', 'Product3', 250, 'West'), (5, '2023-01-05', 'Product2', 300, 'North'), (6, '2023-01-01', 'Product1', 100, 'North'), (7, '2023-01-02', 'Product2', 200, 'South'), (8, '2023-01-03', 'Product1', 150, 'East'), (9, '2023-01-04', 'Product3', 250, 'West'), (10, '2023-01-05', 'Product2', 300, 'North')]\n",
      "[(1, '2023-01-01', 'Product1', 100, 'North'), (2, '2023-01-02', 'Product2', 200, 'South'), (3, '2023-01-03', 'Product1', 150, 'East'), (4, '2023-01-04', 'Product3', 250, 'West'), (5, '2023-01-05', 'Product2', 300, 'North'), (6, '2023-01-01', 'Product1', 100, 'North'), (7, '2023-01-02', 'Product2', 200, 'South'), (8, '2023-01-03', 'Product1', 150, 'East'), (9, '2023-01-04', 'Product3', 250, 'West'), (10, '2023-01-05', 'Product2', 300, 'North')]\n",
      "[(1, '2023-01-01', 'Product1', 100, 'North'), (2, '2023-01-02', 'Product2', 200, 'South'), (3, '2023-01-03', 'Product1', 150, 'East'), (4, '2023-01-04', 'Product3', 250, 'West'), (5, '2023-01-05', 'Product2', 300, 'North'), (6, '2023-01-01', 'Product1', 100, 'North'), (7, '2023-01-02', 'Product2', 200, 'South'), (8, '2023-01-03', 'Product1', 150, 'East'), (9, '2023-01-04', 'Product3', 250, 'West'), (10, '2023-01-05', 'Product2', 300, 'North')]\n",
      "[(1, '2023-01-01', 'Product1', 100, 'North'), (2, '2023-01-02', 'Product2', 200, 'South'), (3, '2023-01-03', 'Product1', 150, 'East'), (4, '2023-01-04', 'Product3', 250, 'West'), (5, '2023-01-05', 'Product2', 300, 'North'), (6, '2023-01-01', 'Product1', 100, 'North'), (7, '2023-01-02', 'Product2', 200, 'South'), (8, '2023-01-03', 'Product1', 150, 'East'), (9, '2023-01-04', 'Product3', 250, 'West'), (10, '2023-01-05', 'Product2', 300, 'North')]\n",
      "[(1, '2023-01-01', 'Product1', 100, 'North'), (2, '2023-01-02', 'Product2', 200, 'South'), (3, '2023-01-03', 'Product1', 150, 'East'), (4, '2023-01-04', 'Product3', 250, 'West'), (5, '2023-01-05', 'Product2', 300, 'North'), (6, '2023-01-01', 'Product1', 100, 'North'), (7, '2023-01-02', 'Product2', 200, 'South'), (8, '2023-01-03', 'Product1', 150, 'East'), (9, '2023-01-04', 'Product3', 250, 'West'), (10, '2023-01-05', 'Product2', 300, 'North')]\n",
      "[(1, '2023-01-01', 'Product1', 100, 'North'), (2, '2023-01-02', 'Product2', 200, 'South'), (3, '2023-01-03', 'Product1', 150, 'East'), (4, '2023-01-04', 'Product3', 250, 'West'), (5, '2023-01-05', 'Product2', 300, 'North'), (6, '2023-01-01', 'Product1', 100, 'North'), (7, '2023-01-02', 'Product2', 200, 'South'), (8, '2023-01-03', 'Product1', 150, 'East'), (9, '2023-01-04', 'Product3', 250, 'West'), (10, '2023-01-05', 'Product2', 300, 'North')]\n",
      "[(1, '2023-01-01', 'Product1', 100, 'North'), (2, '2023-01-02', 'Product2', 200, 'South'), (3, '2023-01-03', 'Product1', 150, 'East'), (4, '2023-01-04', 'Product3', 250, 'West'), (5, '2023-01-05', 'Product2', 300, 'North'), (6, '2023-01-01', 'Product1', 100, 'North'), (7, '2023-01-02', 'Product2', 200, 'South'), (8, '2023-01-03', 'Product1', 150, 'East'), (9, '2023-01-04', 'Product3', 250, 'West'), (10, '2023-01-05', 'Product2', 300, 'North')]\n",
      "[(1, '2023-01-01', 'Product1', 100, 'North'), (2, '2023-01-02', 'Product2', 200, 'South'), (3, '2023-01-03', 'Product1', 150, 'East'), (4, '2023-01-04', 'Product3', 250, 'West'), (5, '2023-01-05', 'Product2', 300, 'North'), (6, '2023-01-01', 'Product1', 100, 'North'), (7, '2023-01-02', 'Product2', 200, 'South'), (8, '2023-01-03', 'Product1', 150, 'East'), (9, '2023-01-04', 'Product3', 250, 'West'), (10, '2023-01-05', 'Product2', 300, 'North')]\n",
      "[(1, '2023-01-01', 'Product1', 100, 'North'), (2, '2023-01-02', 'Product2', 200, 'South'), (3, '2023-01-03', 'Product1', 150, 'East'), (4, '2023-01-04', 'Product3', 250, 'West'), (5, '2023-01-05', 'Product2', 300, 'North'), (6, '2023-01-01', 'Product1', 100, 'North'), (7, '2023-01-02', 'Product2', 200, 'South'), (8, '2023-01-03', 'Product1', 150, 'East'), (9, '2023-01-04', 'Product3', 250, 'West'), (10, '2023-01-05', 'Product2', 300, 'North')]\n",
      "[(1, '2023-01-01', 'Product1', 100, 'North'), (2, '2023-01-02', 'Product2', 200, 'South'), (3, '2023-01-03', 'Product1', 150, 'East'), (4, '2023-01-04', 'Product3', 250, 'West'), (5, '2023-01-05', 'Product2', 300, 'North'), (6, '2023-01-01', 'Product1', 100, 'North'), (7, '2023-01-02', 'Product2', 200, 'South'), (8, '2023-01-03', 'Product1', 150, 'East'), (9, '2023-01-04', 'Product3', 250, 'West'), (10, '2023-01-05', 'Product2', 300, 'North')]\n"
     ]
    }
   ],
   "source": [
    "# Query data from the sales table\n",
    "cursor.execute('select* from sales')\n",
    "rows = cursor.fetchall()\n",
    "\n",
    "for row in rows:\n",
    "    print(rows)"
   ]
  },
  {
   "cell_type": "code",
   "execution_count": 28,
   "metadata": {},
   "outputs": [],
   "source": [
    "## close the connection\n",
    "\n",
    "connection.close()"
   ]
  },
  {
   "cell_type": "code",
   "execution_count": 22,
   "metadata": {},
   "outputs": [
    {
     "ename": "ProgrammingError",
     "evalue": "Cannot operate on a closed database.",
     "output_type": "error",
     "traceback": [
      "\u001b[1;31m---------------------------------------------------------------------------\u001b[0m",
      "\u001b[1;31mProgrammingError\u001b[0m                          Traceback (most recent call last)",
      "Cell \u001b[1;32mIn[22], line 2\u001b[0m\n\u001b[0;32m      1\u001b[0m \u001b[38;5;66;03m# Query data from the sales table\u001b[39;00m\n\u001b[1;32m----> 2\u001b[0m \u001b[43mcursor\u001b[49m\u001b[38;5;241;43m.\u001b[39;49m\u001b[43mexecute\u001b[49m\u001b[43m(\u001b[49m\u001b[38;5;124;43m'\u001b[39;49m\u001b[38;5;124;43mSELECT * FROM sales\u001b[39;49m\u001b[38;5;124;43m'\u001b[39;49m\u001b[43m)\u001b[49m\n\u001b[0;32m      3\u001b[0m rows \u001b[38;5;241m=\u001b[39m cursor\u001b[38;5;241m.\u001b[39mfetchall()\n\u001b[0;32m      5\u001b[0m \u001b[38;5;66;03m# Print the queried data\u001b[39;00m\n",
      "\u001b[1;31mProgrammingError\u001b[0m: Cannot operate on a closed database."
     ]
    }
   ],
   "source": [
    "# Query data from the sales table\n",
    "cursor.execute('SELECT * FROM sales')\n",
    "rows = cursor.fetchall()\n",
    "\n",
    "# Print the queried data\n",
    "for row in rows:\n",
    "    print(row)"
   ]
  },
  {
   "cell_type": "code",
   "execution_count": null,
   "metadata": {},
   "outputs": [],
   "source": [
    "# working with sqlite3 in python\n",
    "\n",
    "# first of all import the sqlite3. already downloaded\n",
    "\n",
    "1) create a connection\n",
    "# connection = sqlite3.connect('database_name')\n",
    "# connection\n",
    "\n",
    "2) create a cursor that will iterate across the whole table\n",
    "# cursor = connection.cursor()\n",
    "\n",
    "3) create various field for inserting elements --> write sql command for creating various fields\n",
    "4) insert the data element\n",
    "\n",
    "for normal insertion --> #cursor.execute()\n",
    "for bulk insertion --> #cursor.executemany()\n",
    "    \n",
    "5) to perform all the command you shoul write \n",
    "#cursor.execute()\n",
    "\n",
    "6) to fetch all data and to execute you need command --> #row = cursor.fetchall()\n",
    "\n",
    "6) after every operation you perform you should write this command for sucessfull execution\n",
    "# connection.commit() \n",
    "\n",
    "7) At last to close all --> # connection.close()"
   ]
  },
  {
   "cell_type": "code",
   "execution_count": null,
   "metadata": {},
   "outputs": [],
   "source": [
    "\n"
   ]
  },
  {
   "cell_type": "code",
   "execution_count": null,
   "metadata": {},
   "outputs": [],
   "source": []
  }
 ],
 "metadata": {
  "kernelspec": {
   "display_name": "base",
   "language": "python",
   "name": "python3"
  },
  "language_info": {
   "codemirror_mode": {
    "name": "ipython",
    "version": 3
   },
   "file_extension": ".py",
   "mimetype": "text/x-python",
   "name": "python",
   "nbconvert_exporter": "python",
   "pygments_lexer": "ipython3",
   "version": "3.12.7"
  }
 },
 "nbformat": 4,
 "nbformat_minor": 2
}

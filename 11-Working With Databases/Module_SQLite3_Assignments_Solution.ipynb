{
 "cells": [
  {
   "cell_type": "markdown",
   "metadata": {},
   "source": [
    "# Module: SQLite3 Assignments\n",
    "## Lesson: SQLite3\n",
    "### Assignment 1: Creating and Connecting to a Database\n",
    "\n",
    "1. Write a Python function to create a new SQLite3 database named `test.db`."
   ]
  },
  {
   "cell_type": "code",
   "execution_count": 39,
   "metadata": {},
   "outputs": [
    {
     "name": "stdout",
     "output_type": "stream",
     "text": [
      "database created scuessfuly and connected\n"
     ]
    }
   ],
   "source": [
    "import sqlite3\n",
    "def create_database():\n",
    "    connection = sqlite3.connect('employee.db')\n",
    "    connection\n",
    "    # connection.close()\n",
    "    print(\"database created scuessfuly and connected\")\n",
    "\n",
    "create_database()\n"
   ]
  },
  {
   "cell_type": "markdown",
   "metadata": {},
   "source": [
    "2. Write a Python function to create a table named `employees` with columns `id` (integer), `name` (text), `age` (integer), and `department` (text) in the `test.db` database."
   ]
  },
  {
   "cell_type": "code",
   "execution_count": 40,
   "metadata": {},
   "outputs": [
    {
     "name": "stdout",
     "output_type": "stream",
     "text": [
      "Table created sucessfully\n"
     ]
    }
   ],
   "source": [
    "\n",
    "def create_table():\n",
    "    connection = sqlite3.connect('employee.db')\n",
    "    connection\n",
    "    cursor = connection.cursor()\n",
    "    cursor.execute('''\n",
    "        create table if not exists employees(\n",
    "            id integer primary key,\n",
    "            name text not null,\n",
    "            age integer,\n",
    "            department text\n",
    "        )\n",
    "    ''')\n",
    "\n",
    "    connection.commit()\n",
    "    print(\"Table created sucessfully\")\n",
    "\n",
    "create_table()"
   ]
  },
  {
   "cell_type": "markdown",
   "metadata": {},
   "source": [
    "### Assignment 2: Inserting Data\n",
    "\n",
    "1. Write a Python function to insert a new employee into the `employees` table."
   ]
  },
  {
   "cell_type": "code",
   "execution_count": 41,
   "metadata": {},
   "outputs": [
    {
     "name": "stdout",
     "output_type": "stream",
     "text": [
      "Employee inserted sucessfully\n"
     ]
    }
   ],
   "source": [
    "def insert_employees(id, name, age, department):\n",
    "    connection = sqlite3.connect('employee.db')\n",
    "    connection\n",
    "    # connection.close()\n",
    "    # print(\"database created scuessfuly and connected\")\n",
    "    cursor = connection.cursor()\n",
    "\n",
    "    # cursor.execute('''\n",
    "    #     create table if not exists employees(\n",
    "    #         id integer primary key,\n",
    "    #         name text not null,\n",
    "    #         age integer,\n",
    "    #         department text\n",
    "    #     )\n",
    "    # ''')\n",
    "\n",
    "    # print(\"Table created sucessfully\")\n",
    "\n",
    "    cursor.execute('''\n",
    "    insert into employees(id, name, age, department)\n",
    "    values(?,?,?,?)\n",
    "    ''', (id, name, age, department))\n",
    "    connection.commit()\n",
    "    print(\"Employee inserted sucessfully\")\n",
    "\n",
    "\n",
    "insert_employees(1, 'Alice', 30, 'HR')"
   ]
  },
  {
   "cell_type": "markdown",
   "metadata": {},
   "source": [
    "2. Insert at least 5 different employees into the `employees` table."
   ]
  },
  {
   "cell_type": "code",
   "execution_count": 42,
   "metadata": {},
   "outputs": [
    {
     "name": "stdout",
     "output_type": "stream",
     "text": [
      "Employee inserted sucessfully\n",
      "Employee inserted sucessfully\n",
      "Employee inserted sucessfully\n",
      "Employee inserted sucessfully\n"
     ]
    }
   ],
   "source": [
    "# Insert 5 different employees\n",
    "insert_employees(2, 'Bob', 25, 'Engineering')\n",
    "insert_employees(3, 'Charlie', 28, 'Sales')\n",
    "insert_employees(4, 'David', 35, 'Marketing')\n",
    "insert_employees(5, 'Eve', 22, 'HR')"
   ]
  },
  {
   "cell_type": "markdown",
   "metadata": {},
   "source": [
    "### Assignment 3: Querying Data\n",
    "\n",
    "1. Write a Python function to fetch and display all records from the `employees` table."
   ]
  },
  {
   "cell_type": "code",
   "execution_count": null,
   "metadata": {},
   "outputs": [
    {
     "name": "stdout",
     "output_type": "stream",
     "text": [
      "(1, 'Alice', 30, 'HR')\n",
      "(2, 'Bob', 25, 'Engineering')\n",
      "(3, 'Charlie', 28, 'Sales')\n",
      "(4, 'David', 35, 'Marketing')\n",
      "(5, 'Eve', 22, 'HR')\n"
     ]
    }
   ],
   "source": [
    "def fetch_data():\n",
    "    connection = sqlite3.connect('employee.db')\n",
    "    connection\n",
    "    cursor = connection.cursor()\n",
    "    cursor.execute('select*from employees')\n",
    "    rows = cursor.fetchall()\n",
    "    for row in rows:\n",
    "        print(row)\n",
    "\n",
    "fetch_data()"
   ]
  },
  {
   "cell_type": "markdown",
   "metadata": {},
   "source": [
    "2. Write a Python function to fetch and display all employees from a specific department."
   ]
  },
  {
   "cell_type": "code",
   "execution_count": null,
   "metadata": {},
   "outputs": [
    {
     "name": "stdout",
     "output_type": "stream",
     "text": [
      "(1, 'Alice', 30, 'HR')\n",
      "(5, 'Eve', 22, 'HR')\n"
     ]
    }
   ],
   "source": [
    "def fetch_employee_department(department):\n",
    "    connection = sqlite3.connect('employee.db')\n",
    "    connection\n",
    "    cursor = connection.cursor()\n",
    "    cursor.execute('select * from employees where department = ?',(department,))\n",
    "    rows = cursor.fetchall()\n",
    "    for row in rows:\n",
    "        print(row)\n",
    "\n",
    "fetch_employee_department('HR')"
   ]
  },
  {
   "cell_type": "markdown",
   "metadata": {},
   "source": [
    "### Assignment 4: Updating Data\n",
    "\n",
    "1. Write a Python function to update the department of an employee based on their `id`."
   ]
  },
  {
   "cell_type": "code",
   "execution_count": 57,
   "metadata": {},
   "outputs": [
    {
     "name": "stdout",
     "output_type": "stream",
     "text": [
      "(1, 'Alice', 30, 'HR')\n",
      "(2, 'Bob', 25, 'Engineering')\n",
      "(3, 'Charlie', 28, 'Finance')\n",
      "(4, 'David', 35, 'Marketing')\n",
      "(5, 'Eve', 22, 'HR')\n"
     ]
    }
   ],
   "source": [
    "def update_value(new_department,id):\n",
    "    connection =sqlite3.connect('employee.db')\n",
    "    connection\n",
    "    cursor = connection.cursor()\n",
    "\n",
    "    cursor.execute('update employees set department = ? where id =?',(new_department,id))\n",
    "    connection.commit()\n",
    "    cursor.execute('select* from employees')\n",
    "    rows = cursor.fetchall()\n",
    "    for row in rows:\n",
    "        print(row)\n",
    "\n",
    "update_value('Finance',3)"
   ]
  },
  {
   "cell_type": "markdown",
   "metadata": {},
   "source": [
    "2. Update the department of at least 2 employees and display the updated records."
   ]
  },
  {
   "cell_type": "code",
   "execution_count": null,
   "metadata": {},
   "outputs": [
    {
     "name": "stdout",
     "output_type": "stream",
     "text": [
      "(1, 'Alice', 30, 'HR')\n",
      "(2, 'Bob', 25, 'Engineering')\n",
      "(3, 'Charlie', 28, 'Finance')\n",
      "(4, 'David', 35, 'Marketing')\n",
      "(5, 'Eve', 22, 'HR')\n",
      "(1, 'Alice', 30, 'Research')\n",
      "(2, 'Bob', 25, 'Engineering')\n",
      "(3, 'Charlie', 28, 'Finance')\n",
      "(4, 'David', 35, 'Marketing')\n",
      "(5, 'Eve', 22, 'HR')\n"
     ]
    }
   ],
   "source": [
    "# Update the department of 2 employees\n",
    "update_value('Finance',3)\n",
    "update_value('Research',1)"
   ]
  },
  {
   "cell_type": "markdown",
   "metadata": {},
   "source": [
    "### Assignment 5: Deleting Data\n",
    "\n",
    "1. Write a Python function to delete an employee from the `employees` table based on their `id`."
   ]
  },
  {
   "cell_type": "code",
   "execution_count": null,
   "metadata": {},
   "outputs": [
    {
     "name": "stdout",
     "output_type": "stream",
     "text": [
      "(1, 'Alice', 30, 'Research')\n",
      "(2, 'Bob', 25, 'Engineering')\n",
      "(4, 'David', 35, 'Marketing')\n",
      "(5, 'Eve', 22, 'HR')\n"
     ]
    }
   ],
   "source": [
    "def delete_record(id):\n",
    "    connection = sqlite3.connect('employee.db')\n",
    "    connection\n",
    "    cursor = connection.cursor()\n",
    "    cursor.execute('delete from employees where id = ?', (id,))\n",
    "    connection.commit()\n",
    "    cursor.execute('select *from employees')\n",
    "    rows = cursor.fetchall()\n",
    "    for row in rows:\n",
    "        print(row)\n",
    "\n",
    "delete_record(3)"
   ]
  },
  {
   "cell_type": "markdown",
   "metadata": {},
   "source": [
    "2. Delete at least 1 employee and display the remaining records."
   ]
  },
  {
   "cell_type": "code",
   "execution_count": 61,
   "metadata": {},
   "outputs": [
    {
     "name": "stdout",
     "output_type": "stream",
     "text": [
      "(1, 'Alice', 30, 'Research')\n",
      "(2, 'Bob', 25, 'Engineering')\n",
      "(5, 'Eve', 22, 'HR')\n"
     ]
    }
   ],
   "source": [
    "# Delete an employee\n",
    "delete_record(4)\n",
    "\n",
    "# # Fetch and display all records\n",
    "# fetch_all_employees()"
   ]
  },
  {
   "cell_type": "markdown",
   "metadata": {},
   "source": [
    "### Assignment 6: Advanced Queries\n",
    "\n",
    "1. Write a Python function to fetch and display employees older than a certain age."
   ]
  },
  {
   "cell_type": "code",
   "execution_count": 64,
   "metadata": {},
   "outputs": [
    {
     "name": "stdout",
     "output_type": "stream",
     "text": [
      "(1, 'Alice', 30, 'Research')\n"
     ]
    }
   ],
   "source": [
    "def employee_age(age):\n",
    "    connection = sqlite3.connect('employee.db')\n",
    "    connection\n",
    "    cursor = connection.cursor()\n",
    "    cursor.execute('select * from employees where age > ?',(age,))\n",
    "    connection.commit()\n",
    "    rows = cursor.fetchall()\n",
    "    for row in rows:\n",
    "        print(row)\n",
    "\n",
    "employee_age(25)\n"
   ]
  },
  {
   "cell_type": "markdown",
   "metadata": {},
   "source": [
    "2. Write a Python function to fetch and display employees whose names start with a specific letter."
   ]
  },
  {
   "cell_type": "code",
   "execution_count": null,
   "metadata": {},
   "outputs": [
    {
     "name": "stdout",
     "output_type": "stream",
     "text": [
      "(1, 'Alice', 30, 'Research')\n"
     ]
    }
   ],
   "source": [
    "def employee_name(letter):\n",
    "    connection = sqlite3.connect('employee.db')\n",
    "    connection\n",
    "    cursor = connection.cursor()\n",
    "    cursor.execute('select * from employees where name like ?',(letter + '%',))\n",
    "    connection.commit()\n",
    "    rows = cursor.fetchall()\n",
    "    for row in rows:\n",
    "        print(row)\n",
    "\n",
    "employee_name('A')"
   ]
  },
  {
   "cell_type": "markdown",
   "metadata": {},
   "source": [
    "### Assignment 7: Handling Transactions\n",
    "\n",
    "1. Write a Python function to insert multiple employees into the `employees` table in a single transaction. Ensure that if any insertion fails, none of the insertions are committed."
   ]
  },
  {
   "cell_type": "code",
   "execution_count": 86,
   "metadata": {},
   "outputs": [
    {
     "name": "stdout",
     "output_type": "stream",
     "text": [
      "(1, 'Alice', 30, 'Research')\n",
      "(2, 'Bob', 25, 'Engineering')\n",
      "(5, 'Eve', 22, 'HR')\n",
      "(6, 'Frank', 40, 'Finance')\n",
      "(7, 'Grace', 29, 'Engineering')\n",
      "(8, 'Hannah', 35, 'Marketing')\n",
      "(9, 'Ivan', 38, 'Sales')\n",
      "all employees are inserted\n"
     ]
    }
   ],
   "source": [
    "def insert_employee(emp):\n",
    "    connection = sqlite3.connect('employee.db')\n",
    "    connection\n",
    "    cursor = connection.cursor()\n",
    "\n",
    "    try:\n",
    "        cursor.executemany('''\n",
    "        insert or ignore into employees(id,name,age,department) \n",
    "        values(?,?,?,?)\n",
    "        ''',emp)\n",
    "        connection.commit()\n",
    "        cursor.execute('select * from employees')\n",
    "        rows = cursor.fetchall()\n",
    "        for row in rows:\n",
    "            print(row)\n",
    "        \n",
    "        print(\"all employees are inserted\")\n",
    "    except Exception as e:\n",
    "        connection.rollback()\n",
    "        print(\"an error occured\")\n",
    "        print(e)\n",
    "    finally:\n",
    "        connection.close()\n",
    "\n",
    "emp = [\n",
    "    (6, 'Frank', 40, 'Finance'),\n",
    "    (7, 'Grace', 29, 'Engineering'),\n",
    "    (8, 'Hannah', 35, 'Marketing'),\n",
    "    (9, 'Ivan', 38, 'Sales'),\n",
    "    (6, 'Loni', 10, 'kid'),\n",
    "\n",
    "]\n",
    "insert_employee(emp)"
   ]
  },
  {
   "cell_type": "markdown",
   "metadata": {},
   "source": [
    " 2. Write a Python function to update the age of multiple employees in a single transaction. Ensure that if any update fails, none of the updates are committed."
   ]
  },
  {
   "cell_type": "code",
   "execution_count": 96,
   "metadata": {},
   "outputs": [
    {
     "name": "stdout",
     "output_type": "stream",
     "text": [
      "(1, 'Alice', 32, 'Research')\n",
      "(2, 'Bob', 26, 'Engineering')\n",
      "(5, 'Eve', 44, 'HR')\n",
      "(6, 'Frank', 34, 'Finance')\n",
      "(7, 'Grace', 29, 'Engineering')\n",
      "(8, 'Hannah', 35, 'Marketing')\n",
      "(9, 'Ivan', 23, 'Sales')\n"
     ]
    }
   ],
   "source": [
    "def age_update(updates):\n",
    "    connection = sqlite3.connect('employee.db')\n",
    "    connection\n",
    "    cursor = connection.cursor()\n",
    "\n",
    "    try:\n",
    "        cursor.executemany('update employees set age = ? where id = ?',updates)\n",
    "        connection.commit()\n",
    "        rows = cursor.execute('select* from employees')\n",
    "        for row in rows:\n",
    "            print(row)\n",
    "    except Exception as e:\n",
    "        connection.rollback()\n",
    "        print(\"an error occured\")\n",
    "        print(e)\n",
    "    finally:\n",
    "        connection.close()\n",
    "\n",
    "updates = [\n",
    "    (32,1),\n",
    "    (26,2),\n",
    "    (34,6),\n",
    "    (44,5),\n",
    "    (23,9),\n",
    "\n",
    "]\n",
    "age_update(updates)"
   ]
  },
  {
   "cell_type": "markdown",
   "metadata": {},
   "source": [
    "### Assignment 8: Creating Relationships\n",
    "\n",
    "1. Create a new table named `departments` with columns `id` (integer) and `name` (text)."
   ]
  },
  {
   "cell_type": "code",
   "execution_count": null,
   "metadata": {},
   "outputs": [
    {
     "name": "stdout",
     "output_type": "stream",
     "text": [
      "(101, 'CSE')\n",
      "(102, 'ECE')\n"
     ]
    }
   ],
   "source": [
    "connection = sqlite3.connect('employee.db')\n",
    "connection\n",
    "cursor = connection.cursor()\n",
    "cursor.execute('''\n",
    "    create table if not exists departments(\n",
    "        id integer primary key,\n",
    "        name text not null\n",
    "    )\n",
    "''')\n",
    "dep =[\n",
    "    (101, 'CSE'),\n",
    "    (102, 'ECE')\n",
    "]\n",
    "cursor.executemany('insert into departments(id, name) values(?,?)', dep)\n",
    "connection.commit()\n",
    "cursor.execute('select * from departments')\n",
    "rows = cursor.fetchall()\n",
    "for row in rows:\n",
    "    print(row)"
   ]
  },
  {
   "cell_type": "markdown",
   "metadata": {},
   "source": [
    "2. Modify the `employees` table to include a foreign key referencing the `id` column in the `departments` table."
   ]
  },
  {
   "cell_type": "code",
   "execution_count": null,
   "metadata": {},
   "outputs": [],
   "source": [
    "def add_department_foreign_key():\n",
    "    conn = sqlite3.connect('test.db')\n",
    "    cursor = conn.cursor()\n",
    "    cursor.execute('''\n",
    "        PRAGMA foreign_keys=off;\n",
    "        BEGIN TRANSACTION;\n",
    "        ALTER TABLE employees RENAME TO old_employees;\n",
    "        CREATE TABLE employees (\n",
    "            id INTEGER PRIMARY KEY,\n",
    "            name TEXT NOT NULL,\n",
    "            age INTEGER,\n",
    "            department TEXT,\n",
    "            department_id INTEGER,\n",
    "            FOREIGN KEY(department_id) REFERENCES departments(id)\n",
    "        );\n",
    "        INSERT INTO employees (id, name, age, department)\n",
    "        SELECT id, name, age, department FROM old_employees;\n",
    "        DROP TABLE old_employees;\n",
    "        COMMIT;\n",
    "        PRAGMA foreign_keys=on;\n",
    "    ''')\n",
    "    conn.commit()\n",
    "    conn.close()\n",
    "    print(\"Table 'employees' modified successfully.\")\n",
    "\n",
    "# Test the function\n",
    "add_department_foreign_key()"
   ]
  },
  {
   "cell_type": "markdown",
   "metadata": {},
   "source": [
    "3. Write a Python function to insert data into both the `departments` and `employees` tables, ensuring referential integrity."
   ]
  },
  {
   "cell_type": "code",
   "execution_count": null,
   "metadata": {},
   "outputs": [],
   "source": [
    "def insert_department_and_employee(department_id, department_name, employee_id, name, age, department):\n",
    "    conn = sqlite3.connect('test.db')\n",
    "    cursor = conn.cursor()\n",
    "    try:\n",
    "        cursor.execute('''\n",
    "            INSERT INTO departments (id, name)\n",
    "            VALUES (?, ?)\n",
    "        ''', (department_id, department_name))\n",
    "        cursor.execute('''\n",
    "            INSERT INTO employees (id, name, age, department, department_id)\n",
    "            VALUES (?, ?, ?, ?, ?)\n",
    "        ''', (employee_id, name, age, department, department_id))\n",
    "        conn.commit()\n",
    "        print(\"Department and employee inserted successfully.\")\n",
    "    except Exception as e:\n",
    "        conn.rollback()\n",
    "        print(\"Error occurred, transaction rolled back.\")\n",
    "        print(e)\n",
    "    finally:\n",
    "        conn.close()\n",
    "\n",
    "# Test the function\n",
    "insert_department_and_employee(1, 'Finance', 10, 'Zara', 28, 'Finance')"
   ]
  },
  {
   "cell_type": "markdown",
   "metadata": {},
   "source": [
    "### Assignment 9: Indexing and Optimization\n",
    "\n",
    "1. Create an index on the `name` column of the `employees` table."
   ]
  },
  {
   "cell_type": "code",
   "execution_count": null,
   "metadata": {},
   "outputs": [],
   "source": [
    "def create_index_on_name():\n",
    "    conn = sqlite3.connect('test.db')\n",
    "    cursor = conn.cursor()\n",
    "    cursor.execute('CREATE INDEX idx_name ON employees(name)')\n",
    "    conn.commit()\n",
    "    conn.close()\n",
    "    print(\"Index on 'name' column created successfully.\")\n",
    "\n",
    "# Test the function\n",
    "create_index_on_name()"
   ]
  },
  {
   "cell_type": "markdown",
   "metadata": {},
   "source": [
    "2. Write a Python function to fetch and display all employees whose names start with a specific letter. Compare the performance with and without the index."
   ]
  },
  {
   "cell_type": "code",
   "execution_count": null,
   "metadata": {},
   "outputs": [],
   "source": [
    "import time\n",
    "\n",
    "def fetch_employees_name_starts_with_performance(letter):\n",
    "    conn = sqlite3.connect('test.db')\n",
    "    cursor = conn.cursor()\n",
    "    start_time = time.time()\n",
    "    cursor.execute('SELECT * FROM employees WHERE name LIKE ?', (letter + '%',))\n",
    "    records = cursor.fetchall()\n",
    "    end_time = time.time()\n",
    "    conn.close()\n",
    "    print(\"Time taken: {} seconds\".format(end_time - start_time))\n",
    "    for record in records:\n",
    "        print(record)\n",
    "\n",
    "# Test the function with the index\n",
    "fetch_employees_name_starts_with_performance('A')"
   ]
  },
  {
   "cell_type": "markdown",
   "metadata": {},
   "source": [
    "### Assignment 10: Backing Up and Restoring Data\n",
    "\n",
    "1. Write a Python function to back up the `test.db` database to a file named `backup.db`."
   ]
  },
  {
   "cell_type": "code",
   "execution_count": null,
   "metadata": {},
   "outputs": [],
   "source": [
    "import shutil\n",
    "\n",
    "def backup_database():\n",
    "    shutil.copy('test.db', 'backup.db')\n",
    "    print(\"Database backed up successfully.\")\n",
    "\n",
    "# Test the function\n",
    "backup_database()"
   ]
  },
  {
   "cell_type": "markdown",
   "metadata": {},
   "source": [
    "2. Write a Python function to restore the `test.db` database from the `backup.db` file."
   ]
  },
  {
   "cell_type": "code",
   "execution_count": null,
   "metadata": {},
   "outputs": [],
   "source": [
    "def restore_database():\n",
    "    shutil.copy('backup.db', 'test.db')\n",
    "    print(\"Database restored successfully.\")\n",
    "\n",
    "# Test the function\n",
    "restore_database()"
   ]
  }
 ],
 "metadata": {
  "kernelspec": {
   "display_name": "base",
   "language": "python",
   "name": "python3"
  },
  "language_info": {
   "codemirror_mode": {
    "name": "ipython",
    "version": 3
   },
   "file_extension": ".py",
   "mimetype": "text/x-python",
   "name": "python",
   "nbconvert_exporter": "python",
   "pygments_lexer": "ipython3",
   "version": "3.12.7"
  }
 },
 "nbformat": 4,
 "nbformat_minor": 5
}

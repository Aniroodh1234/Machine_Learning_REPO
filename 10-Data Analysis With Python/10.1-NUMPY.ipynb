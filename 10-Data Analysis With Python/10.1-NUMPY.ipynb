{
 "cells": [
  {
   "cell_type": "markdown",
   "metadata": {},
   "source": [
    "#### Numpy\n",
    "NumPy is a fundamental library for scientific computing in Python. It provides support for arrays and matrices, along with a collection of mathematical functions to operate on these data structures. In this lesson, we will cover the basics of NumPy, focusing on arrays and vectorized operations."
   ]
  },
  {
   "cell_type": "markdown",
   "metadata": {},
   "source": [
    "#### What kind of areray to be used to deal with numpy\n",
    "Homogeneous arrays: Require all inner lists to have the same length.\n",
    "\n",
    "#### If hetrogenous are used then it will be deal like this\n",
    "Padding: Use padding to equalize lengths and leverage NumPy's performance.\n",
    "\n",
    "Object arrays: Allow for varying lengths but with reduced performance and functionality."
   ]
  },
  {
   "cell_type": "code",
   "execution_count": 68,
   "metadata": {},
   "outputs": [
    {
     "name": "stdout",
     "output_type": "stream",
     "text": [
      "Requirement already satisfied: numpy in d:\\anaconda3\\lib\\site-packages (1.26.4)\n"
     ]
    }
   ],
   "source": [
    "!pip install numpy\n"
   ]
  },
  {
   "cell_type": "code",
   "execution_count": 12,
   "metadata": {},
   "outputs": [
    {
     "name": "stdout",
     "output_type": "stream",
     "text": [
      "[1 2 3 4 5]\n",
      "<class 'numpy.ndarray'>\n",
      "(5,)\n"
     ]
    },
    {
     "data": {
      "text/plain": [
       "array([[1, 2, 3, 4, 5]])"
      ]
     },
     "execution_count": 12,
     "metadata": {},
     "output_type": "execute_result"
    }
   ],
   "source": [
    "import numpy as np\n",
    "\n",
    "arr = np.array([1,2,3,4,5])\n",
    "print(arr)\n",
    "print(type(arr))\n",
    "print(arr.shape)  #output---> (5,) it is a represtation of 1d array\n",
    "arr.reshape(1,5)       #output---> (1,5) 1 row and 5 column \n"
   ]
  },
  {
   "cell_type": "code",
   "execution_count": null,
   "metadata": {},
   "outputs": [
    {
     "name": "stdout",
     "output_type": "stream",
     "text": [
      "(5,)\n",
      "(1, 5)\n"
     ]
    }
   ],
   "source": [
    "# np.arr([1,2,3,4]) ---> this is representation of 1 d array\n",
    "# np.arr([[1,2,3,4]]) ---> this is representation of 2 d array\n",
    "\n",
    "arr1 = np.array([1,2,3,4,5])\n",
    "arr2 = np.array([[1,2,3,4,5]])\n",
    "\n",
    "print(arr1.shape)\n",
    "print(arr2.shape)"
   ]
  },
  {
   "cell_type": "code",
   "execution_count": 16,
   "metadata": {},
   "outputs": [
    {
     "name": "stdout",
     "output_type": "stream",
     "text": [
      "array: \n",
      " [[ 1  2  3  4  5]\n",
      " [ 6  7  8  9 10]]\n",
      "(2, 5)\n"
     ]
    },
    {
     "data": {
      "text/plain": [
       "array([[0, 2, 4, 6, 8]])"
      ]
     },
     "execution_count": 16,
     "metadata": {},
     "output_type": "execute_result"
    }
   ],
   "source": [
    "## 2d array\n",
    "arr3 = np.array([[1,2,3,4,5],[6,7,8,9,10]])\n",
    "print(\"array: \\n\",arr3)\n",
    "print(arr3.shape)\n",
    "np.arange(0,10,2).reshape(1,5)\n"
   ]
  },
  {
   "cell_type": "code",
   "execution_count": 17,
   "metadata": {},
   "outputs": [
    {
     "data": {
      "text/plain": [
       "array([[0],\n",
       "       [2],\n",
       "       [4],\n",
       "       [6],\n",
       "       [8]])"
      ]
     },
     "execution_count": 17,
     "metadata": {},
     "output_type": "execute_result"
    }
   ],
   "source": [
    "np.arange(0,10,2).reshape(5,1)"
   ]
  },
  {
   "cell_type": "code",
   "execution_count": 21,
   "metadata": {},
   "outputs": [
    {
     "data": {
      "text/plain": [
       "array([[1., 1., 1., 1.],\n",
       "       [1., 1., 1., 1.],\n",
       "       [1., 1., 1., 1.]])"
      ]
     },
     "execution_count": 21,
     "metadata": {},
     "output_type": "execute_result"
    }
   ],
   "source": [
    "np.ones((3,4))"
   ]
  },
  {
   "cell_type": "code",
   "execution_count": 16,
   "metadata": {},
   "outputs": [
    {
     "data": {
      "text/plain": [
       "array([[1., 0., 0.],\n",
       "       [0., 1., 0.],\n",
       "       [0., 0., 1.]])"
      ]
     },
     "execution_count": 16,
     "metadata": {},
     "output_type": "execute_result"
    }
   ],
   "source": [
    "## identity matrix\n",
    "np.eye(3)"
   ]
  },
  {
   "cell_type": "code",
   "execution_count": 19,
   "metadata": {},
   "outputs": [
    {
     "name": "stdout",
     "output_type": "stream",
     "text": [
      "Addition: [11 22 33 44 55]\n",
      "Substraction: [ -9 -18 -27 -36 -45]\n",
      "Multiplication: [ 10  40  90 160 250]\n",
      "Division: [0.1 0.1 0.1 0.1 0.1]\n"
     ]
    }
   ],
   "source": [
    "### Numpy Vectorized Operation\n",
    "arr1=np.array([1,2,3,4,5])\n",
    "arr2=np.array([10,20,30,40,50])\n",
    "\n",
    "### Element Wise addition\n",
    "print(\"Addition:\", arr1+arr2)\n",
    "\n",
    "## Element Wise Substraction\n",
    "print(\"Substraction:\", arr1-arr2)\n",
    "\n",
    "# Element-wise multiplication\n",
    "print(\"Multiplication:\", arr1 * arr2)\n",
    "\n",
    "# Element-wise division\n",
    "print(\"Division:\", arr1 / arr2)"
   ]
  },
  {
   "cell_type": "code",
   "execution_count": 21,
   "metadata": {},
   "outputs": [
    {
     "name": "stdout",
     "output_type": "stream",
     "text": [
      "[1.41421356 1.73205081 2.         2.23606798 2.44948974]\n",
      "[  7.3890561   20.08553692  54.59815003 148.4131591  403.42879349]\n",
      "[ 0.90929743  0.14112001 -0.7568025  -0.95892427 -0.2794155 ]\n",
      "[0.69314718 1.09861229 1.38629436 1.60943791 1.79175947]\n"
     ]
    }
   ],
   "source": [
    "## Universal Function\n",
    "arr=np.array([2,3,4,5,6])\n",
    "## square root\n",
    "print(np.sqrt(arr))\n",
    "\n",
    "## Exponential\n",
    "print(np.exp(arr))\n",
    "\n",
    "## Sine\n",
    "print(np.sin(arr))\n",
    "\n",
    "## natural log\n",
    "print(np.log(arr))"
   ]
  },
  {
   "cell_type": "code",
   "execution_count": 51,
   "metadata": {},
   "outputs": [
    {
     "name": "stdout",
     "output_type": "stream",
     "text": [
      "array: \n",
      " [[1 2 3 4 5]\n",
      " [2 3 4 5 6]\n",
      " [3 4 5 6 7]]\n",
      "\n",
      " [[2 3 4 5 6]\n",
      " [3 4 5 6 7]]\n",
      "\n",
      " [[2 3 4 5 6]]\n",
      "\n",
      " [[5]\n",
      " [6]\n",
      " [7]]\n",
      "\n",
      " [[3]\n",
      " [4]\n",
      " [5]]\n",
      "\n",
      " [[5]]\n",
      "\n",
      " [[7]]\n",
      "\n",
      " [[6]]\n",
      "\n",
      " [[4 5]\n",
      " [5 6]]\n"
     ]
    }
   ],
   "source": [
    "## array slicing and Indexing --> this is used to retrive any row,column, data from the array\n",
    "arr = np.array([[1,2,3,4,5],[2,3,4,5,6],[3,4,5,6,7]])\n",
    "print(\"array: \\n\",arr)\n",
    "print(\"\\n\",arr[1:])\n",
    "print(\"\\n\",arr[1:2])\n",
    "print(\"\\n\",arr[0:,4:])\n",
    "print(\"\\n\",arr[0:,2:3])\n",
    "print(\"\\n\",arr[1:2,3:4])\n",
    "print(\"\\n\",arr[2:3,4:5])\n",
    "print(\"\\n\",arr[2:3,3:4])\n",
    "print(\"\\n\",arr[1:,2:4])\n",
    "\n",
    "\n"
   ]
  },
  {
   "cell_type": "code",
   "execution_count": 52,
   "metadata": {},
   "outputs": [
    {
     "name": "stdout",
     "output_type": "stream",
     "text": [
      "[[30  2  3  4  5]\n",
      " [ 2  3  4  5  6]\n",
      " [ 3  4  5  6  7]]\n"
     ]
    }
   ],
   "source": [
    "## Modify array elements\n",
    "arr[0,0] = 30\n",
    "print(arr)"
   ]
  },
  {
   "cell_type": "code",
   "execution_count": 53,
   "metadata": {},
   "outputs": [
    {
     "name": "stdout",
     "output_type": "stream",
     "text": [
      "[[30  2  3  4  5]\n",
      " [40 40 40 40 40]\n",
      " [ 3  4  5  6  7]]\n"
     ]
    }
   ],
   "source": [
    "\n",
    "arr[1:2,0:] = 40\n",
    "print(arr)"
   ]
  },
  {
   "cell_type": "code",
   "execution_count": 38,
   "metadata": {},
   "outputs": [
    {
     "name": "stdout",
     "output_type": "stream",
     "text": [
      "Normalized data: [-1.41421356 -0.70710678  0.          0.70710678  1.41421356]\n"
     ]
    }
   ],
   "source": [
    "### statistical concepts--Normalization\n",
    "##to have a mean of 0 and standard deviation of 1\n",
    "data = np.array([1, 2, 3, 4, 5])\n",
    "\n",
    "# Calculate the mean and standard deviation\n",
    "mean = np.mean(data)\n",
    "std_dev = np.std(data)\n",
    "\n",
    "# Normalize the data\n",
    "normalized_data = (data - mean) / std_dev\n",
    "print(\"Normalized data:\", normalized_data)\n",
    "\n"
   ]
  },
  {
   "cell_type": "code",
   "execution_count": null,
   "metadata": {},
   "outputs": [
    {
     "name": "stdout",
     "output_type": "stream",
     "text": [
      "mean:  4.333333333333333\n",
      "median:  4.0\n",
      "mode:  2.211083193570267\n",
      "variance:  4.888888888888889\n"
     ]
    }
   ],
   "source": [
    "data = np.array([1,2,3,4,5,3,6,7,8])\n",
    "\n",
    "mean = np.mean(data)\n",
    "print(\"mean: \",mean)\n",
    "\n",
    "median = np.median(data)\n",
    "print(\"median: \",median)\n",
    "\n",
    "standard_devaiation = np.std(data)\n",
    "print(\"mode: \",standard_devaiation)\n",
    "\n",
    "var = np.var(data)\n",
    "print(\"variance: \",var)"
   ]
  },
  {
   "cell_type": "code",
   "execution_count": 66,
   "metadata": {},
   "outputs": [
    {
     "data": {
      "text/plain": [
       "array([4])"
      ]
     },
     "execution_count": 66,
     "metadata": {},
     "output_type": "execute_result"
    }
   ],
   "source": [
    "## Logical operation\n",
    "data=np.array([1,2,3,4,5,6,7,8,9,10])\n",
    "\n",
    "data[(data>=5) & (data<=8)]\n",
    "data[(data>3) & (data<5)]"
   ]
  },
  {
   "cell_type": "code",
   "execution_count": null,
   "metadata": {},
   "outputs": [
    {
     "name": "stdout",
     "output_type": "stream",
     "text": [
      "Array: \n",
      " [[1 2 3 4 5]\n",
      " [3 4 5 6 7]\n",
      " [2 5 6 7 8]]\n",
      "dimension:  2\n",
      "size:  15\n",
      "shape:  (3, 5)\n",
      "datatype:  int32\n",
      "itemsize:  4\n"
     ]
    }
   ],
   "source": [
    "## Attributes of Numpy Array\n",
    "arrx = np.array([[1,2,3,4,5],[3,4,5,6,7],[2,5,6,7,8]])\n",
    "print(\"Array: \\n\",arrx)\n",
    "print(\"dimension: \",arrx.ndim)\n",
    "print(\"size: \",arrx.size)\n",
    "print(\"shape: \",arrx.shape)\n",
    "print(\"datatype: \",arr.dtype)\n",
    "print(\"itemsize: \",arr.itemsize)\n",
    "\n"
   ]
  },
  {
   "cell_type": "code",
   "execution_count": null,
   "metadata": {},
   "outputs": [],
   "source": [
    "# functions in numpy\n",
    "np.array      #--> creates array\n",
    "arr.shape     # --> provide the shape of the given array\n",
    "arr.reshape   #--> converts 1d ayyary to 2d or some other type\n",
    "np.arrange    #--> creates an array on the basis of some conditions\n",
    "np.ones       #--> create a matrix with only value as 1\n",
    "np.eye        #--> create identity matrix\n",
    "np.sqrt\n",
    "np.log\n",
    "np.sin\n",
    "np.mean\n",
    "np.var\n",
    "np.std\n",
    "np.median\n",
    "np.exp\n",
    "np.random.randint(1,10,size=(2,2))   # this mean we need to create an 2D array with shape 4*4 and its element to be filled between 1 to 10 randomly\n",
    "np.random.randint(1,10,size=(2,))    # this mean we need to create an 1D array with 5 element to be filled between 1 to 10 randomly\n",
    "np.fill_diagonal(array,0)  # this will the diagonal elements with the number which we will give\n",
    "np.concatenate((array[0,0:],array[4,0:],array[1:4,0],array[1:4,4]))         #concatinate different arrays\n",
    "np.sum(array,axis=1)    # used to compute the sum of row \n",
    "np.sum(array,axis=0)    # # used to compute the sum of column \n",
    "np.linalg.()     # used to solve various mathematical operations like matrix,determinats,eigen values, Machine learning (e.g., multivariate Gaussian distribution),solving linear equations\n",
    "np.dot()   # perform matrix multiplication\n",
    "np.random.choice(['A','B','C']size=(2,2))      # this mean we need to create an 2D array with shape 2*2 and its element to be filled between A to C randomly\n",
    "\n",
    "ways of cretaing arrays using numpy\n",
    "1) np.array([1,2,3,4,4])\n",
    "1) np.array([1,2,3,4,4][2,3,4,5,6])\n",
    "3) np.random.randint(1,11,size=(3,3))\n",
    "4) np.arrange(1,5).reshape(3,3)\n",
    "\n"
   ]
  },
  {
   "cell_type": "markdown",
   "metadata": {},
   "source": [
    "#### BROADCASTING OF ARRAY\n",
    "Broadcasting in NumPy is a powerful feature that allows arithmetic operations between arrays of different shapes—without explicitly replicating data.\n",
    "\n",
    "iT CAN BE OF TWO TYPES:-\n",
    "\n",
    "Scalar + Array\n",
    "\n",
    "2D + 1D Array"
   ]
  },
  {
   "cell_type": "code",
   "execution_count": 69,
   "metadata": {},
   "outputs": [
    {
     "name": "stdout",
     "output_type": "stream",
     "text": [
      "[11 12 13]\n"
     ]
    }
   ],
   "source": [
    "#SCALAR + ARRAY\n",
    "import numpy as np\n",
    "arr = np.array([1, 2, 3])\n",
    "print(arr + 10)\n"
   ]
  },
  {
   "cell_type": "code",
   "execution_count": null,
   "metadata": {},
   "outputs": [
    {
     "name": "stdout",
     "output_type": "stream",
     "text": [
      "[[11 22 33]\n",
      " [14 25 36]]\n"
     ]
    }
   ],
   "source": [
    "# 2D + 1D Array\n",
    "A = np.array([[1, 2, 3],\n",
    "            [4, 5, 6]])\n",
    "B = np.array([10, 20, 30])\n",
    "\n",
    "print(A + B)\n"
   ]
  },
  {
   "cell_type": "code",
   "execution_count": null,
   "metadata": {},
   "outputs": [],
   "source": []
  },
  {
   "cell_type": "code",
   "execution_count": null,
   "metadata": {},
   "outputs": [],
   "source": []
  },
  {
   "cell_type": "code",
   "execution_count": null,
   "metadata": {},
   "outputs": [],
   "source": []
  },
  {
   "cell_type": "code",
   "execution_count": null,
   "metadata": {},
   "outputs": [],
   "source": []
  }
 ],
 "metadata": {
  "kernelspec": {
   "display_name": "base",
   "language": "python",
   "name": "python3"
  },
  "language_info": {
   "codemirror_mode": {
    "name": "ipython",
    "version": 3
   },
   "file_extension": ".py",
   "mimetype": "text/x-python",
   "name": "python",
   "nbconvert_exporter": "python",
   "pygments_lexer": "ipython3",
   "version": "3.12.7"
  }
 },
 "nbformat": 4,
 "nbformat_minor": 2
}

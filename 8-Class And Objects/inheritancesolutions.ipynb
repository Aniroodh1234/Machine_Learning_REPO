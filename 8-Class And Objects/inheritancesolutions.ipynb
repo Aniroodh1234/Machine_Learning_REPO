{
 "cells": [
  {
   "cell_type": "markdown",
   "metadata": {},
   "source": [
    "# Module: Inheritance Assignments\n",
    "## Lesson: Single and Multiple Inheritance\n",
    "### Assignment 1: Single Inheritance Basic\n",
    "\n",
    "Create a base class named `Animal` with attributes `name` and `species`. Create a derived class named `Dog` that inherits from `Animal` and adds an attribute `breed`. Create an object of the `Dog` class and print its attributes."
   ]
  },
  {
   "cell_type": "code",
   "execution_count": 2,
   "metadata": {},
   "outputs": [],
   "source": [
    "class Animal:\n",
    "    def __init__(self, name, species):\n",
    "        self.name = name\n",
    "        self.species = species\n",
    "\n",
    "class Dog(Animal):\n",
    "    def __init__(self, name, species, breed):\n",
    "        super().__init__(name, species)\n",
    "        self.breed = breed\n",
    "\n",
    "# Test\n",
    "# dog = Dog('Buddy', 'Canine', 'Golden Retriever')\n",
    "# print(dog.name, dog.species, dog.breed)"
   ]
  },
  {
   "cell_type": "markdown",
   "metadata": {},
   "source": [
    "### Assignment 2: Method Overriding in Single Inheritance\n",
    "\n",
    "In the `Dog` class, override the `__str__` method to return a string representation of the object. Create an object of the class and print it."
   ]
  },
  {
   "cell_type": "code",
   "execution_count": null,
   "metadata": {},
   "outputs": [
    {
     "name": "stdout",
     "output_type": "stream",
     "text": [
      "name: Buddy, species: Canine, breed = Golden Retriever\n"
     ]
    }
   ],
   "source": [
    "class Dog(Animal):\n",
    "    def __init__(self,name,species,breed):\n",
    "        super().__init__(name,species)\n",
    "        self.breed = breed\n",
    "    \n",
    "    def __str__(self):\n",
    "        return f\"name: {self.name}, species: {self.species}, breed = {self.breed}\"\n",
    "    \n",
    "dog = Dog('Buddy', 'Canine', 'Golden Retriever')\n",
    "print(dog)"
   ]
  },
  {
   "cell_type": "markdown",
   "metadata": {},
   "source": [
    "### Assignment 3: Single Inheritance with Additional Methods\n",
    "\n",
    "In the `Dog` class, add a method named `bark` that prints a barking sound. Create an object of the class and call the method."
   ]
  },
  {
   "cell_type": "code",
   "execution_count": null,
   "metadata": {},
   "outputs": [],
   "source": [
    "class Dog(Animal):\n",
    "    def __init__(self, name, species, breed):\n",
    "        super().__init__(name, species)\n",
    "        self.breed = breed\n",
    "\n",
    "    def bark(self):\n",
    "        print(\"Woof! Woof!\")\n",
    "\n",
    "# Test\n",
    "# dog = Dog('Buddy', 'Canine', 'Golden Retriever')\n",
    "# dog.bark()"
   ]
  },
  {
   "cell_type": "markdown",
   "metadata": {},
   "source": [
    "### Assignment 4: Multiple Inheritance Basic\n",
    "\n",
    "Create a base class named `Walker` with a method `walk` that prints a walking message. Create another base class named `Runner` with a method `run` that prints a running message. Create a derived class named `Athlete` that inherits from both `Walker` and `Runner`. Create an object of the `Athlete` class and call both methods."
   ]
  },
  {
   "cell_type": "code",
   "execution_count": 2,
   "metadata": {},
   "outputs": [
    {
     "name": "stdout",
     "output_type": "stream",
     "text": [
      "running\n",
      "its walking\n"
     ]
    }
   ],
   "source": [
    "class Walker:\n",
    "    def walk(self):\n",
    "        return f\"its walking\"\n",
    "    \n",
    "class Runner:\n",
    "    def run(self):\n",
    "        return f\"running\"\n",
    "    \n",
    "class Athelete(Walker,Runner):\n",
    "    pass\n",
    "\n",
    "ath = Athelete()\n",
    "print(ath.run())\n",
    "print(ath.walk())\n"
   ]
  },
  {
   "cell_type": "markdown",
   "metadata": {},
   "source": [
    "### Assignment 5: Method Resolution Order (MRO) in Multiple Inheritance\n",
    "\n",
    "In the `Athlete` class, override the `walk` method to print a different message. Create an object of the class and call the `walk` method. Use the `super()` function to call the `walk` method of the `Walker` class."
   ]
  },
  {
   "cell_type": "code",
   "execution_count": 4,
   "metadata": {},
   "outputs": [
    {
     "name": "stdout",
     "output_type": "stream",
     "text": [
      "walking\n"
     ]
    },
    {
     "data": {
      "text/plain": [
       "'Athlete: warming up by its walking'"
      ]
     },
     "execution_count": 4,
     "metadata": {},
     "output_type": "execute_result"
    }
   ],
   "source": [
    "# here MRO (Method Resolution Order) is applied. Its applied when there is multiple inheritance. It generally signifies which method of the class should be used \n",
    "\n",
    "# here both exam,ples have been explained, where super is used before and after the method overriding\n",
    "\n",
    "\n",
    "\n",
    "\n",
    "class Athelete(Walker,Runner):\n",
    "    def walk(self):\n",
    "        # base_walk = super().walk()                   #--> this is generally responsible for MRO\n",
    "        # print(f\"Athlete: warming up by {base_walk}\")\n",
    "        print(f\"walking\")\n",
    "        base_walk = super().walk()                 #--> this is generally responsible for MRO\n",
    "        return f\"Athlete: warming up by {base_walk}\"\n",
    "\n",
    "\n",
    "ath = Athelete()\n",
    "ath.walk()"
   ]
  },
  {
   "cell_type": "markdown",
   "metadata": {},
   "source": [
    "### Assignment 6: Multiple Inheritance with Additional Attributes\n",
    "\n",
    "In the `Athlete` class, add an attribute `training_hours` and a method `train` that prints the training hours. Create an object of the class and call the method."
   ]
  },
  {
   "cell_type": "code",
   "execution_count": 18,
   "metadata": {},
   "outputs": [
    {
     "name": "stdout",
     "output_type": "stream",
     "text": [
      "the person is training for 5 hours\n"
     ]
    }
   ],
   "source": [
    "# class Athlete(Walker, Runner):\n",
    "#     def __init__(self, training_hours):\n",
    "#         self.training_hours = training_hours\n",
    "\n",
    "#     def train(self):\n",
    "#         print(f\"Training for {self.training_hours} hours.\")\n",
    "\n",
    "class Athelete(Walker,Runner):\n",
    "    def __init__(self,training_hours):\n",
    "        self.training_hours = training_hours\n",
    "\n",
    "    def train(self):\n",
    "        print(f\"the person is training for {self.training_hours} hours\")\n",
    "\n",
    "\n",
    "ath = Athelete(5)\n",
    "ath.train()\n",
    "# athlete = Athlete(5)\n",
    "# athlete.train()"
   ]
  },
  {
   "cell_type": "markdown",
   "metadata": {},
   "source": [
    "### Assignment 7: Diamond Problem in Multiple Inheritance\n",
    "\n",
    "Create a class named `A` with a method `show` that prints a message. Create two derived classes `B` and `C` that inherit from `A` and override the `show` method. Create a class `D` that inherits from both `B` and `C`. Create an object of the `D` class and call the `show` method. Observe the method resolution order."
   ]
  },
  {
   "cell_type": "code",
   "execution_count": null,
   "metadata": {},
   "outputs": [
    {
     "name": "stdout",
     "output_type": "stream",
     "text": [
      "B is showed\n"
     ]
    }
   ],
   "source": [
    "class A:\n",
    "    def show(self):\n",
    "        print(\"A is showed\")\n",
    "\n",
    "class B(A):\n",
    "    def show(self):\n",
    "        print(\"B is showed\")\n",
    "    \n",
    "class C(A):\n",
    "    def show(self):\n",
    "        print(\"c is showed\")\n",
    "\n",
    "class D(B,C):\n",
    "    pass\n",
    "\n",
    "d = D()\n",
    "d.show()"
   ]
  },
  {
   "cell_type": "markdown",
   "metadata": {},
   "source": [
    "### Assignment 8: Using `super()` in Single Inheritance\n",
    "\n",
    "Create a base class named `Shape` with an attribute `color`. Create a derived class named `Circle` that inherits from `Shape` and adds an attribute `radius`. Use the `super()` function to initialize the attributes. Create an object of the `Circle` class and print its attributes."
   ]
  },
  {
   "cell_type": "code",
   "execution_count": null,
   "metadata": {},
   "outputs": [
    {
     "name": "stdout",
     "output_type": "stream",
     "text": [
      "Red 5\n"
     ]
    }
   ],
   "source": [
    "class Shape:\n",
    "    def __init__(self,colour):\n",
    "        self.colour = colour\n",
    "\n",
    "class Circle(Shape):\n",
    "    def __init__(self,colour,radius):\n",
    "        super().__init__(colour)\n",
    "        self.radius = radius\n",
    "\n",
    "cir = Circle('Red',5)\n",
    "print(cir.colour, cir.radius)"
   ]
  },
  {
   "cell_type": "markdown",
   "metadata": {},
   "source": [
    "### Assignment 9: Using `super()` in Multiple Inheritance\n",
    "\n",
    "Create a class named `Person` with an attribute `name`. Create a class named `Employee` with an attribute `employee_id`. Create a derived class `Manager` that inherits from both `Person` and `Employee`. Use the `super()` function to initialize the attributes. Create an object of the `Manager` class and print its attributes."
   ]
  },
  {
   "cell_type": "code",
   "execution_count": null,
   "metadata": {},
   "outputs": [
    {
     "name": "stdout",
     "output_type": "stream",
     "text": [
      "Aniroodh 121\n"
     ]
    }
   ],
   "source": [
    "class Person:\n",
    "    def __init__(self,name):\n",
    "        self.name = name\n",
    "class Employee:\n",
    "    def __init__(self,employee_id):\n",
    "        self.employee_id = employee_id\n",
    "class Manager(Person,Employee):\n",
    "    def __init__(self,name,employee_id):\n",
    "        Person.__init__(self,name)\n",
    "        Employee.__init__(self,employee_id)\n",
    "\n",
    "\n",
    "man = Manager('Aniroodh',121)\n",
    "print(man.name,man.employee_id)\n",
    "\n"
   ]
  },
  {
   "cell_type": "markdown",
   "metadata": {},
   "source": [
    "### Assignment 10: Method Overriding and `super()`\n",
    "\n",
    "Create a class named `Vehicle` with a method `start` that prints a starting message. Create a derived class `Car` that overrides the `start` method to print a different message. Use the `super()` function to call the `start` method of the `Vehicle` class. Create an object of the `Car` class and call the `start` method."
   ]
  },
  {
   "cell_type": "code",
   "execution_count": null,
   "metadata": {},
   "outputs": [
    {
     "name": "stdout",
     "output_type": "stream",
     "text": [
      "car gets started\n",
      "vehicle gets started\n"
     ]
    }
   ],
   "source": [
    "\n",
    "\n",
    "class Vehicle:\n",
    "    def start(self):\n",
    "        print(\"vehicle gets started\")\n",
    "\n",
    "class Car(Vehicle):\n",
    "    def start(self):\n",
    "        print(\"car gets started\")\n",
    "        super().start()\n",
    "\n",
    "car = Car()\n",
    "car.start()\n"
   ]
  },
  {
   "cell_type": "markdown",
   "metadata": {},
   "source": [
    "### Assignment 11: Multiple Inheritance with Different Methods\n",
    "\n",
    "Create a class named `Flyer` with a method `fly` that prints a flying message. Create a class named `Swimmer` with a method `swim` that prints a swimming message. Create a derived class `Superhero` that inherits from both `Flyer` and `Swimmer`. Create an object of the `Superhero` class and call both methods."
   ]
  },
  {
   "cell_type": "code",
   "execution_count": null,
   "metadata": {},
   "outputs": [],
   "source": [
    "class Flyer:\n",
    "    def fly(self):\n",
    "        print(\"Flying...\")\n",
    "\n",
    "class Swimmer:\n",
    "    def swim(self):\n",
    "        print(\"Swimming...\")\n",
    "\n",
    "class Superhero(Flyer, Swimmer):\n",
    "    pass\n",
    "\n",
    "# Test\n",
    "# superhero = Superhero()\n",
    "# superhero.fly()\n",
    "# superhero.swim()"
   ]
  },
  {
   "cell_type": "markdown",
   "metadata": {},
   "source": [
    "### Assignment 12: Complex Multiple Inheritance\n",
    "\n",
    "Create a class named `Base1` with an attribute `a`. Create a class named `Base2` with an attribute `b`. Create a class named `Derived` that inherits from both `Base1` and `Base2` and adds an attribute `c`. Initialize all attributes using the `super()` function. Create an object of the `Derived` class and print its attributes."
   ]
  },
  {
   "cell_type": "code",
   "execution_count": null,
   "metadata": {},
   "outputs": [],
   "source": [
    "class Base1:\n",
    "    def __init__(self, a):\n",
    "        self.a = a\n",
    "\n",
    "class Base2:\n",
    "    def __init__(self, b):\n",
    "        self.b = b\n",
    "\n",
    "class Derived(Base1, Base2):\n",
    "    def __init__(self, a, b, c):\n",
    "        super().__init__(a)\n",
    "        Base2.__init__(self, b)\n",
    "        self.c = c\n",
    "\n",
    "# Test\n",
    "# derived = Derived(1, 2, 3)\n",
    "# print(derived.a, derived.b, derived.c)"
   ]
  },
  {
   "cell_type": "markdown",
   "metadata": {},
   "source": [
    "### Assignment 13: Checking Instance Types with Inheritance\n",
    "\n",
    "Create a base class named `Animal` and a derived class named `Cat`. Create objects of both classes and use the `isinstance` function to check the instance types."
   ]
  },
  {
   "cell_type": "code",
   "execution_count": null,
   "metadata": {},
   "outputs": [],
   "source": [
    "class Animal:\n",
    "    pass\n",
    "\n",
    "class Cat(Animal):\n",
    "    pass\n",
    "\n",
    "# Test\n",
    "# animal = Animal()\n",
    "# cat = Cat()\n",
    "# print(isinstance(animal, Animal))  # True\n",
    "# print(isinstance(cat, Animal))  # True\n",
    "# print(isinstance(cat, Cat))  # True\n",
    "# print(isinstance(animal, Cat))  # False"
   ]
  },
  {
   "cell_type": "markdown",
   "metadata": {},
   "source": [
    "### Assignment 14: Polymorphism with Inheritance\n",
    "\n",
    "Create a base class named `Bird` with a method `speak`. Create two derived classes `Parrot` and `Penguin` that override the `speak` method. Create a list of `Bird` objects and call the `speak` method on each object to demonstrate polymorphism."
   ]
  },
  {
   "cell_type": "code",
   "execution_count": null,
   "metadata": {},
   "outputs": [
    {
     "name": "stdout",
     "output_type": "stream",
     "text": [
      "parrot is speaking\n",
      "penguine is speaking\n"
     ]
    }
   ],
   "source": [
    "class Bird:\n",
    "    def speak(self):\n",
    "        print(\"bird is speaking\")\n",
    "class Parrot(Bird):\n",
    "    def speak(self):\n",
    "        print(\"parrot is speaking\")\n",
    "class Penguine(Bird):\n",
    "    def speak(self):\n",
    "        print(\"penguine is speaking\")\n",
    "\n",
    "birds = [Parrot(),Penguine()]\n",
    "for Bird in birds:\n",
    "    Bird.speak()\n"
   ]
  },
  {
   "cell_type": "markdown",
   "metadata": {},
   "source": [
    "### Assignment 15: Combining Single and Multiple Inheritance\n",
    "\n",
    "Create a base class named `Device` with an attribute `brand`. Create a derived class `Phone` that inherits from `Device` and adds an attribute `model`. Create another base class `Camera` with an attribute `resolution`. Create a derived class `Smartphone` that inherits from both `Phone` and `Camera`. Create an object of the `Smartphone` class and print its attributes."
   ]
  },
  {
   "cell_type": "code",
   "execution_count": null,
   "metadata": {},
   "outputs": [
    {
     "name": "stdout",
     "output_type": "stream",
     "text": [
      "Apple iPhone 12 12 MP\n"
     ]
    }
   ],
   "source": [
    "class Device:\n",
    "    def __init__(self,brand):\n",
    "        self.brand = brand\n",
    "\n",
    "class Phone(Device):\n",
    "    def __init__(self,brand,model):\n",
    "        super().__init__(brand)\n",
    "        self.model = model\n",
    "\n",
    "class Camera:\n",
    "    def __init__(self,resolution):\n",
    "        self.resolution = resolution\n",
    "\n",
    "class Smartphone(Phone,Camera):\n",
    "    def __init__(self,brand,model,resolution):\n",
    "        super().__init__(brand,model)\n",
    "        Camera.__init__(self,resolution)\n",
    "\n",
    "sm = Smartphone('Apple', 'iPhone 12', '12 MP')\n",
    "print(sm.brand, sm.model, sm.resolution)\n",
    "\n"
   ]
  },
  {
   "cell_type": "code",
   "execution_count": null,
   "id": "eb740ceb",
   "metadata": {},
   "outputs": [],
   "source": []
  }
 ],
 "metadata": {
  "kernelspec": {
   "display_name": "Python 3",
   "language": "python",
   "name": "python3"
  },
  "language_info": {
   "codemirror_mode": {
    "name": "ipython",
    "version": 3
   },
   "file_extension": ".py",
   "mimetype": "text/x-python",
   "name": "python",
   "nbconvert_exporter": "python",
   "pygments_lexer": "ipython3",
   "version": "3.12.9"
  }
 },
 "nbformat": 4,
 "nbformat_minor": 5
}

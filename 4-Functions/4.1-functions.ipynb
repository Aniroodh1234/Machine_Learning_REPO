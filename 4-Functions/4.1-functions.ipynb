{
 "cells": [
  {
   "cell_type": "markdown",
   "metadata": {},
   "source": [
    "#### Functions in Python\n",
    "Video Outline:\n",
    "1. Introduction to Functions\n",
    "2. Defining Functions\n",
    "3. Calling Functions\n",
    "4. Function Parameters\n",
    "5. Default Parameters\n",
    "6. Variable-Length Arguments\n",
    "7. Return Statement"
   ]
  },
  {
   "cell_type": "markdown",
   "metadata": {},
   "source": [
    "##### Introduction to Functions\n",
    "Definition:\n",
    "\n",
    "A function is a block of code that performs a specific task.\n",
    "Functions help in organizing code, reusing code, and improving readability.\n",
    "\n"
   ]
  },
  {
   "cell_type": "code",
   "execution_count": 1,
   "metadata": {},
   "outputs": [],
   "source": [
    "## syntax\n",
    "def function_name(parameters):\n",
    "    \"\"\"Docstring\"\"\"\n",
    "    # Function body\n",
    "    return expression\n"
   ]
  },
  {
   "cell_type": "code",
   "execution_count": 2,
   "metadata": {},
   "outputs": [
    {
     "name": "stdout",
     "output_type": "stream",
     "text": [
      "the number is even\n"
     ]
    }
   ],
   "source": [
    "## why functions?\n",
    "num=24\n",
    "if num%2==0:\n",
    "    print(\"the number is even\")\n",
    "else:\n",
    "    print(\"the number is odd\")"
   ]
  },
  {
   "cell_type": "code",
   "execution_count": 5,
   "metadata": {},
   "outputs": [],
   "source": [
    "def even_or_odd(num):\n",
    "    \"\"\"This function finds even or odd\"\"\"\n",
    "    if num%2==0:\n",
    "        print(\"the number is even\")\n",
    "    else:\n",
    "        print(\"the number is odd\")\n"
   ]
  },
  {
   "cell_type": "code",
   "execution_count": 6,
   "metadata": {},
   "outputs": [
    {
     "name": "stdout",
     "output_type": "stream",
     "text": [
      "the number is even\n"
     ]
    }
   ],
   "source": [
    "## Call this function\n",
    "even_or_odd(24)"
   ]
  },
  {
   "cell_type": "code",
   "execution_count": 7,
   "metadata": {},
   "outputs": [
    {
     "name": "stdout",
     "output_type": "stream",
     "text": [
      "6\n"
     ]
    }
   ],
   "source": [
    "## function with multiple parameters\n",
    "\n",
    "def add(a,b):\n",
    "    return a+b\n",
    "\n",
    "result=add(2,4)\n",
    "print(result)\n",
    "    "
   ]
  },
  {
   "cell_type": "code",
   "execution_count": 3,
   "metadata": {},
   "outputs": [
    {
     "name": "stdout",
     "output_type": "stream",
     "text": [
      "Hello Aniroodh Welcome To the paradise\n"
     ]
    }
   ],
   "source": [
    "## Default Parameters\n",
    "\n",
    "def greet(name):\n",
    "    print(f\"Hello {name} Welcome To the paradise\")\n",
    "\n",
    "greet(\"Aniroodh\")\n"
   ]
  },
  {
   "cell_type": "code",
   "execution_count": 10,
   "metadata": {},
   "outputs": [
    {
     "name": "stdout",
     "output_type": "stream",
     "text": [
      "Hello guest Welcome To the paradise\n",
      "Hello Aniroodh Welcome To the paradise\n"
     ]
    }
   ],
   "source": [
    "# here we are using default parameters that is if we do not pass any value to the function then it will take the default value that is guest\n",
    "\n",
    "def greet(name='guest'):\n",
    "    print(f\"Hello {name} Welcome To the paradise\")\n",
    "\n",
    "greet()\n",
    "greet(\"Aniroodh\")"
   ]
  },
  {
   "cell_type": "code",
   "execution_count": null,
   "metadata": {},
   "outputs": [
    {
     "name": "stdout",
     "output_type": "stream",
     "text": [
      "15\n"
     ]
    }
   ],
   "source": [
    "# concept of *args..\n",
    "\n",
    "# if we do not know how many arguments we are going to pass to the function then we can use *args\n",
    "# so it will creatre a tuple of all the arguments passed to the function and by applying the for loop we can iterate through the tuple\n",
    "# and access the values\n",
    "\n",
    "# in place of *args we can also use *Aniroodh or *anything\n",
    "\n",
    "def add(*args):\n",
    "    sum = 0\n",
    "    for x in args:\n",
    "        sum += x\n",
    "    return sum\n",
    "result = add(1, 2, 3, 4, 5)\n",
    "print(result)"
   ]
  },
  {
   "cell_type": "code",
   "execution_count": null,
   "metadata": {},
   "outputs": [
    {
     "name": "stdout",
     "output_type": "stream",
     "text": [
      "1 2 3 4 5 6 7 8 Krish "
     ]
    }
   ],
   "source": [
    "### Variable Length Arguments\n",
    "\n",
    "def print_numbers(*args):\n",
    "    for number in args:\n",
    "        print(number, end=\" \")\n",
    "print_numbers(1,2,3,4,5,6,7,8,\"Krish\")"
   ]
  },
  {
   "cell_type": "code",
   "execution_count": null,
   "metadata": {},
   "outputs": [
    {
     "name": "stdout",
     "output_type": "stream",
     "text": [
      "Positional arguments: 1\n",
      "Positional arguments: 2\n",
      "Positional arguments: 3\n",
      "Positional arguments: 4\n",
      "Positional arguments: Aniroodh\n"
     ]
    }
   ],
   "source": [
    "## Positional arguments  -> here the position matters. Means the first argument will be assigned to the first parameter and so on.\n",
    "\n",
    "def posn(*args):\n",
    "    for A in args:\n",
    "        print(f\"Positional arguments: {A}\")\n",
    "        \n",
    "posn(1,2,3,4,'Aniroodh')\n"
   ]
  },
  {
   "cell_type": "code",
   "execution_count": 25,
   "metadata": {},
   "outputs": [
    {
     "name": "stdout",
     "output_type": "stream",
     "text": [
      "name:Aniroodh\n",
      "age:20\n"
     ]
    }
   ],
   "source": [
    "### Keywords Arguments --> all values are in key value pairs just like dictionaries\n",
    "\n",
    "def keyword(**kwargs):\n",
    "    for name,age in kwargs.items():\n",
    "        print(f\"{name}:{age}\")\n",
    "keyword(name='Aniroodh',age= 20)"
   ]
  },
  {
   "cell_type": "code",
   "execution_count": 26,
   "metadata": {},
   "outputs": [
    {
     "name": "stdout",
     "output_type": "stream",
     "text": [
      "postional arguments: 1\n",
      "postional arguments: 2\n",
      "postional arguments: 3\n",
      "name:box\n",
      "age:99\n"
     ]
    }
   ],
   "source": [
    "def comb(*args,**kwargs):\n",
    "    for i in args:\n",
    "        print(f\"postional arguments: {i}\")\n",
    "    \n",
    "    for key1,value1 in kwargs.items():\n",
    "        print(f\"{key1}:{value1}\")\n",
    "\n",
    "\n",
    "#we can declare positional argument and keyword argumnet randomly rather we \n",
    "#first we need to declare positional then keyword\n",
    "\n",
    "comb(1,2,3,name=\"box\",age=99)\n"
   ]
  },
  {
   "cell_type": "code",
   "execution_count": 21,
   "metadata": {},
   "outputs": [
    {
     "data": {
      "text/plain": [
       "6"
      ]
     },
     "execution_count": 21,
     "metadata": {},
     "output_type": "execute_result"
    }
   ],
   "source": [
    "### Return statements\n",
    "def multiply(a,b):\n",
    "    return a*b\n",
    "\n",
    "multiply(2,3)"
   ]
  },
  {
   "cell_type": "code",
   "execution_count": 22,
   "metadata": {},
   "outputs": [
    {
     "data": {
      "text/plain": [
       "(6, 2)"
      ]
     },
     "execution_count": 22,
     "metadata": {},
     "output_type": "execute_result"
    }
   ],
   "source": [
    "### Return multiple parameters\n",
    "def multiply(a,b):\n",
    "    return a*b,a\n",
    "\n",
    "multiply(2,3)"
   ]
  },
  {
   "cell_type": "code",
   "execution_count": null,
   "metadata": {},
   "outputs": [],
   "source": [
    "# There are three types of arguments in python and they are keyword, positional, variable arguments.\n",
    "\n",
    "# 1)positional arguments --> here the position matters. Means the first argument will be assigned to the first parameter and so on.\n",
    "\n",
    "# 2)keyword arguments --> all values are in key value pairs just like dictionaries. To store it we use **kwargs.\n",
    "\n",
    "# 3)variable length arguments --> if we do not know how many arguments we are going to pass to the function then we can use *args\n",
    "\n",
    "# concept of *args \n",
    "# if we do not know how many arguments we are going to pass to the function then we can use *args\n",
    "# so it will create a tuple of all the arguments passed to the function and by applying the for loop we can iterate through the tuple\n",
    "# and access the values\n",
    "\n",
    "# in place of *args we can also use *Aniroodh or *anything\n",
    "\n",
    "# concept of **kwargs\n",
    "# if we do not know how many keyword arguments we are going to pass to the function then we can use **kwargs\n",
    "# so it will creatre a dictionary of all the keyword arguments passed to the function and by applying the for loop we can iterate through the dictionary\n",
    "# and access the values\n",
    "\n"
   ]
  }
 ],
 "metadata": {
  "kernelspec": {
   "display_name": "Python 3",
   "language": "python",
   "name": "python3"
  },
  "language_info": {
   "codemirror_mode": {
    "name": "ipython",
    "version": 3
   },
   "file_extension": ".py",
   "mimetype": "text/x-python",
   "name": "python",
   "nbconvert_exporter": "python",
   "pygments_lexer": "ipython3",
   "version": "3.12.9"
  }
 },
 "nbformat": 4,
 "nbformat_minor": 2
}
